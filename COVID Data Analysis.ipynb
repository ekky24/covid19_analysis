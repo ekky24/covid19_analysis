{
 "cells": [
  {
   "cell_type": "markdown",
   "metadata": {},
   "source": [
    "# COVID-19 Data Analysis and Visualization using Python"
   ]
  },
  {
   "cell_type": "markdown",
   "metadata": {},
   "source": [
    "## A. Data Cleaning and Preparation"
   ]
  },
  {
   "cell_type": "markdown",
   "metadata": {},
   "source": [
    "Import all main Python's library. We use numpy for numerical calculation and pandas for performing data analysis in our dataset."
   ]
  },
  {
   "cell_type": "code",
   "execution_count": 1,
   "metadata": {},
   "outputs": [],
   "source": [
    "import numpy as np\n",
    "import pandas as pd"
   ]
  },
  {
   "cell_type": "markdown",
   "metadata": {},
   "source": [
    "Import our visualization library. Here, we are using 3 types of Python's library for visualization, which is Matplotlib, Seaborn, and Folium. "
   ]
  },
  {
   "cell_type": "code",
   "execution_count": 2,
   "metadata": {},
   "outputs": [],
   "source": [
    "%matplotlib inline \n",
    "\n",
    "import matplotlib as mpl\n",
    "import matplotlib.pyplot as plt\n",
    "import seaborn as sns\n",
    "import folium"
   ]
  },
  {
   "cell_type": "markdown",
   "metadata": {},
   "source": [
    "Now we are ready to proceed to the next step. The first thing we want to do is exploring our COVID-19 dataset. So, let's import our dataset using pandas and view its first 5 rows."
   ]
  },
  {
   "cell_type": "code",
   "execution_count": 4,
   "metadata": {},
   "outputs": [
    {
     "name": "stdout",
     "output_type": "stream",
     "text": [
      "<class 'pandas.core.frame.DataFrame'>\n",
      "RangeIndex: 18816 entries, 0 to 18815\n",
      "Data columns (total 6 columns):\n",
      " #   Column          Non-Null Count  Dtype  \n",
      "---  ------          --------------  -----  \n",
      " 0   Id              18816 non-null  int64  \n",
      " 1   Country_Region  18816 non-null  object \n",
      " 2   Province_State  8000 non-null   object \n",
      " 3   Date            18816 non-null  object \n",
      " 4   ConfirmedCases  18816 non-null  float64\n",
      " 5   Fatalities      18816 non-null  float64\n",
      "dtypes: float64(2), int64(1), object(3)\n",
      "memory usage: 882.1+ KB\n"
     ]
    }
   ],
   "source": [
    "df = pd.read_csv('dataset/train.csv')\n",
    "\n",
    "df.info()"
   ]
  },
  {
   "cell_type": "markdown",
   "metadata": {},
   "source": [
    "The first thing we going to do is adding the ConfirmedCases_Increase and Fatalities_Increase columns. If we look closely in ConfirmedCases and Fatalities columns, we could see that each data point represents the number of cases in those particular dates. Additionally, we want each data point to reflect the increasing number of cases in each day as well, so it can makes our upcoming analysis easier. "
   ]
  },
  {
   "cell_type": "code",
   "execution_count": 5,
   "metadata": {},
   "outputs": [
    {
     "name": "stderr",
     "output_type": "stream",
     "text": [
      "C:\\anaconda\\lib\\site-packages\\ipykernel_launcher.py:11: PerformanceWarning: indexing past lexsort depth may impact performance.\n",
      "  # This is added back by InteractiveShellApp.init_path()\n",
      "C:\\anaconda\\lib\\site-packages\\ipykernel_launcher.py:12: PerformanceWarning: indexing past lexsort depth may impact performance.\n",
      "  if sys.path[0] == '':\n",
      "C:\\anaconda\\lib\\site-packages\\IPython\\core\\async_helpers.py:68: PerformanceWarning: indexing past lexsort depth may impact performance.\n",
      "  coro.send(None)\n"
     ]
    },
    {
     "data": {
      "text/html": [
       "<div>\n",
       "<style scoped>\n",
       "    .dataframe tbody tr th:only-of-type {\n",
       "        vertical-align: middle;\n",
       "    }\n",
       "\n",
       "    .dataframe tbody tr th {\n",
       "        vertical-align: top;\n",
       "    }\n",
       "\n",
       "    .dataframe thead th {\n",
       "        text-align: right;\n",
       "    }\n",
       "</style>\n",
       "<table border=\"1\" class=\"dataframe\">\n",
       "  <thead>\n",
       "    <tr style=\"text-align: right;\">\n",
       "      <th></th>\n",
       "      <th></th>\n",
       "      <th>Id</th>\n",
       "      <th>Date</th>\n",
       "      <th>ConfirmedCases_Total</th>\n",
       "      <th>Fatalities_Total</th>\n",
       "      <th>ConfirmedCases_Increase</th>\n",
       "      <th>Fatalities_Increase</th>\n",
       "    </tr>\n",
       "    <tr>\n",
       "      <th>Country_Region</th>\n",
       "      <th>Province_State</th>\n",
       "      <th></th>\n",
       "      <th></th>\n",
       "      <th></th>\n",
       "      <th></th>\n",
       "      <th></th>\n",
       "      <th></th>\n",
       "    </tr>\n",
       "  </thead>\n",
       "  <tbody>\n",
       "    <tr>\n",
       "      <th rowspan=\"5\" valign=\"top\">Afghanistan</th>\n",
       "      <th>NaN</th>\n",
       "      <td>1</td>\n",
       "      <td>2020-01-22</td>\n",
       "      <td>0.0</td>\n",
       "      <td>0.0</td>\n",
       "      <td>0.0</td>\n",
       "      <td>0.0</td>\n",
       "    </tr>\n",
       "    <tr>\n",
       "      <th>NaN</th>\n",
       "      <td>2</td>\n",
       "      <td>2020-01-23</td>\n",
       "      <td>0.0</td>\n",
       "      <td>0.0</td>\n",
       "      <td>0.0</td>\n",
       "      <td>0.0</td>\n",
       "    </tr>\n",
       "    <tr>\n",
       "      <th>NaN</th>\n",
       "      <td>3</td>\n",
       "      <td>2020-01-24</td>\n",
       "      <td>0.0</td>\n",
       "      <td>0.0</td>\n",
       "      <td>0.0</td>\n",
       "      <td>0.0</td>\n",
       "    </tr>\n",
       "    <tr>\n",
       "      <th>NaN</th>\n",
       "      <td>4</td>\n",
       "      <td>2020-01-25</td>\n",
       "      <td>0.0</td>\n",
       "      <td>0.0</td>\n",
       "      <td>0.0</td>\n",
       "      <td>0.0</td>\n",
       "    </tr>\n",
       "    <tr>\n",
       "      <th>NaN</th>\n",
       "      <td>5</td>\n",
       "      <td>2020-01-26</td>\n",
       "      <td>0.0</td>\n",
       "      <td>0.0</td>\n",
       "      <td>0.0</td>\n",
       "      <td>0.0</td>\n",
       "    </tr>\n",
       "  </tbody>\n",
       "</table>\n",
       "</div>"
      ],
      "text/plain": [
       "                               Id        Date  ConfirmedCases_Total  \\\n",
       "Country_Region Province_State                                         \n",
       "Afghanistan    NaN              1  2020-01-22                   0.0   \n",
       "               NaN              2  2020-01-23                   0.0   \n",
       "               NaN              3  2020-01-24                   0.0   \n",
       "               NaN              4  2020-01-25                   0.0   \n",
       "               NaN              5  2020-01-26                   0.0   \n",
       "\n",
       "                               Fatalities_Total  ConfirmedCases_Increase  \\\n",
       "Country_Region Province_State                                              \n",
       "Afghanistan    NaN                          0.0                      0.0   \n",
       "               NaN                          0.0                      0.0   \n",
       "               NaN                          0.0                      0.0   \n",
       "               NaN                          0.0                      0.0   \n",
       "               NaN                          0.0                      0.0   \n",
       "\n",
       "                               Fatalities_Increase  \n",
       "Country_Region Province_State                       \n",
       "Afghanistan    NaN                             0.0  \n",
       "               NaN                             0.0  \n",
       "               NaN                             0.0  \n",
       "               NaN                             0.0  \n",
       "               NaN                             0.0  "
      ]
     },
     "execution_count": 5,
     "metadata": {},
     "output_type": "execute_result"
    }
   ],
   "source": [
    "# adding 2 more columns\n",
    "df['ConfirmedCases_Increase'] = np.nan\n",
    "df['Fatalities_Increase'] = np.nan\n",
    "\n",
    "columns = ['ConfirmedCases', 'Fatalities']\n",
    "\n",
    "df = df.set_index(['Country_Region', 'Province_State'])\n",
    "df_diff = df[columns]\n",
    "\n",
    "for i in df_diff.index.unique():\n",
    "    first_data = df_diff.loc[i].iloc[0]\n",
    "    df_temp = df_diff.loc[i].diff()\n",
    "    \n",
    "    df_temp['ConfirmedCases'].fillna(first_data['ConfirmedCases'], inplace=True)   \n",
    "    df_temp['Fatalities'].fillna(first_data['Fatalities'], inplace=True)\n",
    "    df.loc[i, 'ConfirmedCases_Increase'] = df_temp['ConfirmedCases'] \n",
    "    df.loc[i, 'Fatalities_Increase'] = df_temp['Fatalities']\n",
    "\n",
    "# rename df columns\n",
    "df.rename(columns={'ConfirmedCases': 'ConfirmedCases_Total', 'Fatalities': 'Fatalities_Total'}, inplace=True)\n",
    "\n",
    "df.head()"
   ]
  },
  {
   "cell_type": "markdown",
   "metadata": {},
   "source": [
    "When analyzing a dataset, it is always a good idea to get the basic information of our dataset. So, let's do that using pandas function."
   ]
  },
  {
   "cell_type": "code",
   "execution_count": 6,
   "metadata": {},
   "outputs": [
    {
     "name": "stdout",
     "output_type": "stream",
     "text": [
      "<class 'pandas.core.frame.DataFrame'>\n",
      "MultiIndex: 18816 entries, ('Afghanistan', nan) to ('Zimbabwe', nan)\n",
      "Data columns (total 6 columns):\n",
      " #   Column                   Non-Null Count  Dtype  \n",
      "---  ------                   --------------  -----  \n",
      " 0   Id                       18816 non-null  int64  \n",
      " 1   Date                     18816 non-null  object \n",
      " 2   ConfirmedCases_Total     18816 non-null  float64\n",
      " 3   Fatalities_Total         18816 non-null  float64\n",
      " 4   ConfirmedCases_Increase  18816 non-null  float64\n",
      " 5   Fatalities_Increase      18816 non-null  float64\n",
      "dtypes: float64(4), int64(1), object(1)\n",
      "memory usage: 939.6+ KB\n"
     ]
    }
   ],
   "source": [
    "df.info()"
   ]
  },
  {
   "cell_type": "markdown",
   "metadata": {},
   "source": [
    "From our basic analysis above, we could see that our dataset is comprised of 18816 entries or rows and have 6 columns. \n",
    "However, if we look closely, the Province_State column have 10,816 missing values. It is roughly 58% of its data is missing! Since it has so many missing values, let's modify Province_State column values by adding 'None' to null values. Moreover, eventhough Id has a correct datatypes and no missing values, we will eliminate it because Id does not have the significant meaning in our data."
   ]
  },
  {
   "cell_type": "code",
   "execution_count": 7,
   "metadata": {},
   "outputs": [
    {
     "name": "stdout",
     "output_type": "stream",
     "text": [
      "<class 'pandas.core.frame.DataFrame'>\n",
      "RangeIndex: 18816 entries, 0 to 18815\n",
      "Data columns (total 7 columns):\n",
      " #   Column                   Non-Null Count  Dtype  \n",
      "---  ------                   --------------  -----  \n",
      " 0   Country_Region           18816 non-null  object \n",
      " 1   Province_State           18816 non-null  object \n",
      " 2   Date                     18816 non-null  object \n",
      " 3   ConfirmedCases_Total     18816 non-null  float64\n",
      " 4   Fatalities_Total         18816 non-null  float64\n",
      " 5   ConfirmedCases_Increase  18816 non-null  float64\n",
      " 6   Fatalities_Increase      18816 non-null  float64\n",
      "dtypes: float64(4), object(3)\n",
      "memory usage: 1.0+ MB\n"
     ]
    }
   ],
   "source": [
    "# df.drop(['Province_State', 'Id'], axis=1, inplace=True)\n",
    "\n",
    "df.reset_index(inplace=True)\n",
    "df['Province_State'].fillna('None', inplace=True)\n",
    "df.drop('Id', axis=1, inplace=True)\n",
    "\n",
    "df.info()"
   ]
  },
  {
   "cell_type": "markdown",
   "metadata": {},
   "source": [
    "That's it! We have eliminated Province_State and Id column. However, something is not right. Our Date column have object datatype. It is incorrect and we want to convert it into date format so it can make our further analysis much easier. "
   ]
  },
  {
   "cell_type": "code",
   "execution_count": 8,
   "metadata": {},
   "outputs": [
    {
     "name": "stdout",
     "output_type": "stream",
     "text": [
      "<class 'pandas.core.frame.DataFrame'>\n",
      "RangeIndex: 18816 entries, 0 to 18815\n",
      "Data columns (total 7 columns):\n",
      " #   Column                   Non-Null Count  Dtype         \n",
      "---  ------                   --------------  -----         \n",
      " 0   Country_Region           18816 non-null  object        \n",
      " 1   Province_State           18816 non-null  object        \n",
      " 2   Date                     18816 non-null  datetime64[ns]\n",
      " 3   ConfirmedCases_Total     18816 non-null  float64       \n",
      " 4   Fatalities_Total         18816 non-null  float64       \n",
      " 5   ConfirmedCases_Increase  18816 non-null  float64       \n",
      " 6   Fatalities_Increase      18816 non-null  float64       \n",
      "dtypes: datetime64[ns](1), float64(4), object(2)\n",
      "memory usage: 1.0+ MB\n"
     ]
    }
   ],
   "source": [
    "df['Date'] = pd.to_datetime(df['Date'])\n",
    "df.info()"
   ]
  },
  {
   "cell_type": "markdown",
   "metadata": {},
   "source": [
    "This is a lot better! Now let's do some basic statistic into our dataset."
   ]
  },
  {
   "cell_type": "code",
   "execution_count": 9,
   "metadata": {},
   "outputs": [
    {
     "data": {
      "text/html": [
       "<div>\n",
       "<style scoped>\n",
       "    .dataframe tbody tr th:only-of-type {\n",
       "        vertical-align: middle;\n",
       "    }\n",
       "\n",
       "    .dataframe tbody tr th {\n",
       "        vertical-align: top;\n",
       "    }\n",
       "\n",
       "    .dataframe thead th {\n",
       "        text-align: right;\n",
       "    }\n",
       "</style>\n",
       "<table border=\"1\" class=\"dataframe\">\n",
       "  <thead>\n",
       "    <tr style=\"text-align: right;\">\n",
       "      <th></th>\n",
       "      <th>ConfirmedCases_Total</th>\n",
       "      <th>Fatalities_Total</th>\n",
       "      <th>ConfirmedCases_Increase</th>\n",
       "      <th>Fatalities_Increase</th>\n",
       "    </tr>\n",
       "  </thead>\n",
       "  <tbody>\n",
       "    <tr>\n",
       "      <th>count</th>\n",
       "      <td>18816.000000</td>\n",
       "      <td>18816.000000</td>\n",
       "      <td>18816.000000</td>\n",
       "      <td>18816.000000</td>\n",
       "    </tr>\n",
       "    <tr>\n",
       "      <th>mean</th>\n",
       "      <td>343.114052</td>\n",
       "      <td>12.672619</td>\n",
       "      <td>24.846088</td>\n",
       "      <td>1.125585</td>\n",
       "    </tr>\n",
       "    <tr>\n",
       "      <th>std</th>\n",
       "      <td>3580.120962</td>\n",
       "      <td>183.124487</td>\n",
       "      <td>260.992649</td>\n",
       "      <td>18.500090</td>\n",
       "    </tr>\n",
       "    <tr>\n",
       "      <th>min</th>\n",
       "      <td>0.000000</td>\n",
       "      <td>0.000000</td>\n",
       "      <td>-62.000000</td>\n",
       "      <td>-5.000000</td>\n",
       "    </tr>\n",
       "    <tr>\n",
       "      <th>25%</th>\n",
       "      <td>0.000000</td>\n",
       "      <td>0.000000</td>\n",
       "      <td>0.000000</td>\n",
       "      <td>0.000000</td>\n",
       "    </tr>\n",
       "    <tr>\n",
       "      <th>50%</th>\n",
       "      <td>0.000000</td>\n",
       "      <td>0.000000</td>\n",
       "      <td>0.000000</td>\n",
       "      <td>0.000000</td>\n",
       "    </tr>\n",
       "    <tr>\n",
       "      <th>75%</th>\n",
       "      <td>15.000000</td>\n",
       "      <td>0.000000</td>\n",
       "      <td>0.000000</td>\n",
       "      <td>0.000000</td>\n",
       "    </tr>\n",
       "    <tr>\n",
       "      <th>max</th>\n",
       "      <td>74386.000000</td>\n",
       "      <td>7503.000000</td>\n",
       "      <td>14840.000000</td>\n",
       "      <td>839.000000</td>\n",
       "    </tr>\n",
       "  </tbody>\n",
       "</table>\n",
       "</div>"
      ],
      "text/plain": [
       "       ConfirmedCases_Total  Fatalities_Total  ConfirmedCases_Increase  \\\n",
       "count          18816.000000      18816.000000             18816.000000   \n",
       "mean             343.114052         12.672619                24.846088   \n",
       "std             3580.120962        183.124487               260.992649   \n",
       "min                0.000000          0.000000               -62.000000   \n",
       "25%                0.000000          0.000000                 0.000000   \n",
       "50%                0.000000          0.000000                 0.000000   \n",
       "75%               15.000000          0.000000                 0.000000   \n",
       "max            74386.000000       7503.000000             14840.000000   \n",
       "\n",
       "       Fatalities_Increase  \n",
       "count         18816.000000  \n",
       "mean              1.125585  \n",
       "std              18.500090  \n",
       "min              -5.000000  \n",
       "25%               0.000000  \n",
       "50%               0.000000  \n",
       "75%               0.000000  \n",
       "max             839.000000  "
      ]
     },
     "execution_count": 9,
     "metadata": {},
     "output_type": "execute_result"
    }
   ],
   "source": [
    "df.describe()"
   ]
  },
  {
   "cell_type": "markdown",
   "metadata": {},
   "source": [
    "Our dataset is not correct. The escalation of cases (ConfirmedCases_Increase) and deaths (Fatalities_Increase) could not be negative. So, we will modify the negative value into zero, so we assume that there is no escalation of those country in the particular date."
   ]
  },
  {
   "cell_type": "code",
   "execution_count": 11,
   "metadata": {},
   "outputs": [],
   "source": [
    "columns = ['ConfirmedCases_Increase', 'Fatalities_Increase']\n",
    "\n",
    "df[columns] = np.where(df[columns] < 0, 0, df[columns])"
   ]
  },
  {
   "cell_type": "markdown",
   "metadata": {},
   "source": [
    "Let's see the result below."
   ]
  },
  {
   "cell_type": "code",
   "execution_count": 12,
   "metadata": {},
   "outputs": [
    {
     "data": {
      "text/html": [
       "<div>\n",
       "<style scoped>\n",
       "    .dataframe tbody tr th:only-of-type {\n",
       "        vertical-align: middle;\n",
       "    }\n",
       "\n",
       "    .dataframe tbody tr th {\n",
       "        vertical-align: top;\n",
       "    }\n",
       "\n",
       "    .dataframe thead th {\n",
       "        text-align: right;\n",
       "    }\n",
       "</style>\n",
       "<table border=\"1\" class=\"dataframe\">\n",
       "  <thead>\n",
       "    <tr style=\"text-align: right;\">\n",
       "      <th></th>\n",
       "      <th>ConfirmedCases_Total</th>\n",
       "      <th>Fatalities_Total</th>\n",
       "      <th>ConfirmedCases_Increase</th>\n",
       "      <th>Fatalities_Increase</th>\n",
       "    </tr>\n",
       "  </thead>\n",
       "  <tbody>\n",
       "    <tr>\n",
       "      <th>count</th>\n",
       "      <td>18816.000000</td>\n",
       "      <td>18816.000000</td>\n",
       "      <td>18816.000000</td>\n",
       "      <td>18816.000000</td>\n",
       "    </tr>\n",
       "    <tr>\n",
       "      <th>mean</th>\n",
       "      <td>343.114052</td>\n",
       "      <td>12.672619</td>\n",
       "      <td>24.850925</td>\n",
       "      <td>1.126382</td>\n",
       "    </tr>\n",
       "    <tr>\n",
       "      <th>std</th>\n",
       "      <td>3580.120962</td>\n",
       "      <td>183.124487</td>\n",
       "      <td>260.991772</td>\n",
       "      <td>18.499979</td>\n",
       "    </tr>\n",
       "    <tr>\n",
       "      <th>min</th>\n",
       "      <td>0.000000</td>\n",
       "      <td>0.000000</td>\n",
       "      <td>0.000000</td>\n",
       "      <td>0.000000</td>\n",
       "    </tr>\n",
       "    <tr>\n",
       "      <th>25%</th>\n",
       "      <td>0.000000</td>\n",
       "      <td>0.000000</td>\n",
       "      <td>0.000000</td>\n",
       "      <td>0.000000</td>\n",
       "    </tr>\n",
       "    <tr>\n",
       "      <th>50%</th>\n",
       "      <td>0.000000</td>\n",
       "      <td>0.000000</td>\n",
       "      <td>0.000000</td>\n",
       "      <td>0.000000</td>\n",
       "    </tr>\n",
       "    <tr>\n",
       "      <th>75%</th>\n",
       "      <td>15.000000</td>\n",
       "      <td>0.000000</td>\n",
       "      <td>0.000000</td>\n",
       "      <td>0.000000</td>\n",
       "    </tr>\n",
       "    <tr>\n",
       "      <th>max</th>\n",
       "      <td>74386.000000</td>\n",
       "      <td>7503.000000</td>\n",
       "      <td>14840.000000</td>\n",
       "      <td>839.000000</td>\n",
       "    </tr>\n",
       "  </tbody>\n",
       "</table>\n",
       "</div>"
      ],
      "text/plain": [
       "       ConfirmedCases_Total  Fatalities_Total  ConfirmedCases_Increase  \\\n",
       "count          18816.000000      18816.000000             18816.000000   \n",
       "mean             343.114052         12.672619                24.850925   \n",
       "std             3580.120962        183.124487               260.991772   \n",
       "min                0.000000          0.000000                 0.000000   \n",
       "25%                0.000000          0.000000                 0.000000   \n",
       "50%                0.000000          0.000000                 0.000000   \n",
       "75%               15.000000          0.000000                 0.000000   \n",
       "max            74386.000000       7503.000000             14840.000000   \n",
       "\n",
       "       Fatalities_Increase  \n",
       "count         18816.000000  \n",
       "mean              1.126382  \n",
       "std              18.499979  \n",
       "min               0.000000  \n",
       "25%               0.000000  \n",
       "50%               0.000000  \n",
       "75%               0.000000  \n",
       "max             839.000000  "
      ]
     },
     "execution_count": 12,
     "metadata": {},
     "output_type": "execute_result"
    }
   ],
   "source": [
    "df.describe()"
   ]
  },
  {
   "cell_type": "markdown",
   "metadata": {},
   "source": [
    "Now you can see that our data is optimized. Our dataset is not suffer from any mismatch values and anomaly. However, what if we want to see the distribution of all columns as well, such as Country and Date? So, let's add new command below."
   ]
  },
  {
   "cell_type": "code",
   "execution_count": 13,
   "metadata": {},
   "outputs": [
    {
     "data": {
      "text/html": [
       "<div>\n",
       "<style scoped>\n",
       "    .dataframe tbody tr th:only-of-type {\n",
       "        vertical-align: middle;\n",
       "    }\n",
       "\n",
       "    .dataframe tbody tr th {\n",
       "        vertical-align: top;\n",
       "    }\n",
       "\n",
       "    .dataframe thead th {\n",
       "        text-align: right;\n",
       "    }\n",
       "</style>\n",
       "<table border=\"1\" class=\"dataframe\">\n",
       "  <thead>\n",
       "    <tr style=\"text-align: right;\">\n",
       "      <th></th>\n",
       "      <th>Country_Region</th>\n",
       "      <th>Province_State</th>\n",
       "      <th>Date</th>\n",
       "      <th>ConfirmedCases_Total</th>\n",
       "      <th>Fatalities_Total</th>\n",
       "      <th>ConfirmedCases_Increase</th>\n",
       "      <th>Fatalities_Increase</th>\n",
       "    </tr>\n",
       "  </thead>\n",
       "  <tbody>\n",
       "    <tr>\n",
       "      <th>count</th>\n",
       "      <td>18816</td>\n",
       "      <td>18816</td>\n",
       "      <td>18816</td>\n",
       "      <td>18816.000000</td>\n",
       "      <td>18816.000000</td>\n",
       "      <td>18816.000000</td>\n",
       "      <td>18816.000000</td>\n",
       "    </tr>\n",
       "    <tr>\n",
       "      <th>unique</th>\n",
       "      <td>173</td>\n",
       "      <td>126</td>\n",
       "      <td>64</td>\n",
       "      <td>NaN</td>\n",
       "      <td>NaN</td>\n",
       "      <td>NaN</td>\n",
       "      <td>NaN</td>\n",
       "    </tr>\n",
       "    <tr>\n",
       "      <th>top</th>\n",
       "      <td>US</td>\n",
       "      <td>None</td>\n",
       "      <td>2020-01-25 00:00:00</td>\n",
       "      <td>NaN</td>\n",
       "      <td>NaN</td>\n",
       "      <td>NaN</td>\n",
       "      <td>NaN</td>\n",
       "    </tr>\n",
       "    <tr>\n",
       "      <th>freq</th>\n",
       "      <td>3456</td>\n",
       "      <td>10816</td>\n",
       "      <td>294</td>\n",
       "      <td>NaN</td>\n",
       "      <td>NaN</td>\n",
       "      <td>NaN</td>\n",
       "      <td>NaN</td>\n",
       "    </tr>\n",
       "    <tr>\n",
       "      <th>first</th>\n",
       "      <td>NaN</td>\n",
       "      <td>NaN</td>\n",
       "      <td>2020-01-22 00:00:00</td>\n",
       "      <td>NaN</td>\n",
       "      <td>NaN</td>\n",
       "      <td>NaN</td>\n",
       "      <td>NaN</td>\n",
       "    </tr>\n",
       "    <tr>\n",
       "      <th>last</th>\n",
       "      <td>NaN</td>\n",
       "      <td>NaN</td>\n",
       "      <td>2020-03-25 00:00:00</td>\n",
       "      <td>NaN</td>\n",
       "      <td>NaN</td>\n",
       "      <td>NaN</td>\n",
       "      <td>NaN</td>\n",
       "    </tr>\n",
       "    <tr>\n",
       "      <th>mean</th>\n",
       "      <td>NaN</td>\n",
       "      <td>NaN</td>\n",
       "      <td>NaN</td>\n",
       "      <td>343.114052</td>\n",
       "      <td>12.672619</td>\n",
       "      <td>24.850925</td>\n",
       "      <td>1.126382</td>\n",
       "    </tr>\n",
       "    <tr>\n",
       "      <th>std</th>\n",
       "      <td>NaN</td>\n",
       "      <td>NaN</td>\n",
       "      <td>NaN</td>\n",
       "      <td>3580.120962</td>\n",
       "      <td>183.124487</td>\n",
       "      <td>260.991772</td>\n",
       "      <td>18.499979</td>\n",
       "    </tr>\n",
       "    <tr>\n",
       "      <th>min</th>\n",
       "      <td>NaN</td>\n",
       "      <td>NaN</td>\n",
       "      <td>NaN</td>\n",
       "      <td>0.000000</td>\n",
       "      <td>0.000000</td>\n",
       "      <td>0.000000</td>\n",
       "      <td>0.000000</td>\n",
       "    </tr>\n",
       "    <tr>\n",
       "      <th>25%</th>\n",
       "      <td>NaN</td>\n",
       "      <td>NaN</td>\n",
       "      <td>NaN</td>\n",
       "      <td>0.000000</td>\n",
       "      <td>0.000000</td>\n",
       "      <td>0.000000</td>\n",
       "      <td>0.000000</td>\n",
       "    </tr>\n",
       "    <tr>\n",
       "      <th>50%</th>\n",
       "      <td>NaN</td>\n",
       "      <td>NaN</td>\n",
       "      <td>NaN</td>\n",
       "      <td>0.000000</td>\n",
       "      <td>0.000000</td>\n",
       "      <td>0.000000</td>\n",
       "      <td>0.000000</td>\n",
       "    </tr>\n",
       "    <tr>\n",
       "      <th>75%</th>\n",
       "      <td>NaN</td>\n",
       "      <td>NaN</td>\n",
       "      <td>NaN</td>\n",
       "      <td>15.000000</td>\n",
       "      <td>0.000000</td>\n",
       "      <td>0.000000</td>\n",
       "      <td>0.000000</td>\n",
       "    </tr>\n",
       "    <tr>\n",
       "      <th>max</th>\n",
       "      <td>NaN</td>\n",
       "      <td>NaN</td>\n",
       "      <td>NaN</td>\n",
       "      <td>74386.000000</td>\n",
       "      <td>7503.000000</td>\n",
       "      <td>14840.000000</td>\n",
       "      <td>839.000000</td>\n",
       "    </tr>\n",
       "  </tbody>\n",
       "</table>\n",
       "</div>"
      ],
      "text/plain": [
       "       Country_Region Province_State                 Date  \\\n",
       "count           18816          18816                18816   \n",
       "unique            173            126                   64   \n",
       "top                US           None  2020-01-25 00:00:00   \n",
       "freq             3456          10816                  294   \n",
       "first             NaN            NaN  2020-01-22 00:00:00   \n",
       "last              NaN            NaN  2020-03-25 00:00:00   \n",
       "mean              NaN            NaN                  NaN   \n",
       "std               NaN            NaN                  NaN   \n",
       "min               NaN            NaN                  NaN   \n",
       "25%               NaN            NaN                  NaN   \n",
       "50%               NaN            NaN                  NaN   \n",
       "75%               NaN            NaN                  NaN   \n",
       "max               NaN            NaN                  NaN   \n",
       "\n",
       "        ConfirmedCases_Total  Fatalities_Total  ConfirmedCases_Increase  \\\n",
       "count           18816.000000      18816.000000             18816.000000   \n",
       "unique                   NaN               NaN                      NaN   \n",
       "top                      NaN               NaN                      NaN   \n",
       "freq                     NaN               NaN                      NaN   \n",
       "first                    NaN               NaN                      NaN   \n",
       "last                     NaN               NaN                      NaN   \n",
       "mean              343.114052         12.672619                24.850925   \n",
       "std              3580.120962        183.124487               260.991772   \n",
       "min                 0.000000          0.000000                 0.000000   \n",
       "25%                 0.000000          0.000000                 0.000000   \n",
       "50%                 0.000000          0.000000                 0.000000   \n",
       "75%                15.000000          0.000000                 0.000000   \n",
       "max             74386.000000       7503.000000             14840.000000   \n",
       "\n",
       "        Fatalities_Increase  \n",
       "count          18816.000000  \n",
       "unique                  NaN  \n",
       "top                     NaN  \n",
       "freq                    NaN  \n",
       "first                   NaN  \n",
       "last                    NaN  \n",
       "mean               1.126382  \n",
       "std               18.499979  \n",
       "min                0.000000  \n",
       "25%                0.000000  \n",
       "50%                0.000000  \n",
       "75%                0.000000  \n",
       "max              839.000000  "
      ]
     },
     "execution_count": 13,
     "metadata": {},
     "output_type": "execute_result"
    }
   ],
   "source": [
    "df.describe(include='all')"
   ]
  },
  {
   "cell_type": "markdown",
   "metadata": {},
   "source": [
    "From this information, we could see that our dataset contains COVID-19 data from 22 January 2020 until 25 March 2020 for 173 countries worldwide. In other words, every country has 64 data which ranges from 22 January to 25 March. "
   ]
  },
  {
   "cell_type": "markdown",
   "metadata": {},
   "source": [
    "We also need to define Country as index using code below. Don't forget to display our final dataset using head function."
   ]
  },
  {
   "cell_type": "code",
   "execution_count": 14,
   "metadata": {},
   "outputs": [
    {
     "data": {
      "text/html": [
       "<div>\n",
       "<style scoped>\n",
       "    .dataframe tbody tr th:only-of-type {\n",
       "        vertical-align: middle;\n",
       "    }\n",
       "\n",
       "    .dataframe tbody tr th {\n",
       "        vertical-align: top;\n",
       "    }\n",
       "\n",
       "    .dataframe thead th {\n",
       "        text-align: right;\n",
       "    }\n",
       "</style>\n",
       "<table border=\"1\" class=\"dataframe\">\n",
       "  <thead>\n",
       "    <tr style=\"text-align: right;\">\n",
       "      <th></th>\n",
       "      <th></th>\n",
       "      <th>Date</th>\n",
       "      <th>ConfirmedCases_Total</th>\n",
       "      <th>Fatalities_Total</th>\n",
       "      <th>ConfirmedCases_Increase</th>\n",
       "      <th>Fatalities_Increase</th>\n",
       "    </tr>\n",
       "    <tr>\n",
       "      <th>Country_Region</th>\n",
       "      <th>Province_State</th>\n",
       "      <th></th>\n",
       "      <th></th>\n",
       "      <th></th>\n",
       "      <th></th>\n",
       "      <th></th>\n",
       "    </tr>\n",
       "  </thead>\n",
       "  <tbody>\n",
       "    <tr>\n",
       "      <th rowspan=\"5\" valign=\"top\">Afghanistan</th>\n",
       "      <th>None</th>\n",
       "      <td>2020-01-22</td>\n",
       "      <td>0.0</td>\n",
       "      <td>0.0</td>\n",
       "      <td>0.0</td>\n",
       "      <td>0.0</td>\n",
       "    </tr>\n",
       "    <tr>\n",
       "      <th>None</th>\n",
       "      <td>2020-01-23</td>\n",
       "      <td>0.0</td>\n",
       "      <td>0.0</td>\n",
       "      <td>0.0</td>\n",
       "      <td>0.0</td>\n",
       "    </tr>\n",
       "    <tr>\n",
       "      <th>None</th>\n",
       "      <td>2020-01-24</td>\n",
       "      <td>0.0</td>\n",
       "      <td>0.0</td>\n",
       "      <td>0.0</td>\n",
       "      <td>0.0</td>\n",
       "    </tr>\n",
       "    <tr>\n",
       "      <th>None</th>\n",
       "      <td>2020-01-25</td>\n",
       "      <td>0.0</td>\n",
       "      <td>0.0</td>\n",
       "      <td>0.0</td>\n",
       "      <td>0.0</td>\n",
       "    </tr>\n",
       "    <tr>\n",
       "      <th>None</th>\n",
       "      <td>2020-01-26</td>\n",
       "      <td>0.0</td>\n",
       "      <td>0.0</td>\n",
       "      <td>0.0</td>\n",
       "      <td>0.0</td>\n",
       "    </tr>\n",
       "  </tbody>\n",
       "</table>\n",
       "</div>"
      ],
      "text/plain": [
       "                                    Date  ConfirmedCases_Total  \\\n",
       "Country_Region Province_State                                    \n",
       "Afghanistan    None           2020-01-22                   0.0   \n",
       "               None           2020-01-23                   0.0   \n",
       "               None           2020-01-24                   0.0   \n",
       "               None           2020-01-25                   0.0   \n",
       "               None           2020-01-26                   0.0   \n",
       "\n",
       "                               Fatalities_Total  ConfirmedCases_Increase  \\\n",
       "Country_Region Province_State                                              \n",
       "Afghanistan    None                         0.0                      0.0   \n",
       "               None                         0.0                      0.0   \n",
       "               None                         0.0                      0.0   \n",
       "               None                         0.0                      0.0   \n",
       "               None                         0.0                      0.0   \n",
       "\n",
       "                               Fatalities_Increase  \n",
       "Country_Region Province_State                       \n",
       "Afghanistan    None                            0.0  \n",
       "               None                            0.0  \n",
       "               None                            0.0  \n",
       "               None                            0.0  \n",
       "               None                            0.0  "
      ]
     },
     "execution_count": 14,
     "metadata": {},
     "output_type": "execute_result"
    }
   ],
   "source": [
    "df.set_index(['Country_Region', 'Province_State'], inplace=True)\n",
    "df.head()"
   ]
  },
  {
   "cell_type": "markdown",
   "metadata": {},
   "source": [
    "## B. COVID-19 Trend Worldwide"
   ]
  },
  {
   "cell_type": "markdown",
   "metadata": {},
   "source": [
    "We already look into our dataset distribution and basic statistic. It is time for us to visualize our data. First of all, we want to see the worldwide trend of this COVID-19 confirmed case and fatalities. Therefore, let's aggregate our data based on date."
   ]
  },
  {
   "cell_type": "code",
   "execution_count": 15,
   "metadata": {},
   "outputs": [
    {
     "data": {
      "text/html": [
       "<div>\n",
       "<style scoped>\n",
       "    .dataframe tbody tr th:only-of-type {\n",
       "        vertical-align: middle;\n",
       "    }\n",
       "\n",
       "    .dataframe tbody tr th {\n",
       "        vertical-align: top;\n",
       "    }\n",
       "\n",
       "    .dataframe thead th {\n",
       "        text-align: right;\n",
       "    }\n",
       "</style>\n",
       "<table border=\"1\" class=\"dataframe\">\n",
       "  <thead>\n",
       "    <tr style=\"text-align: right;\">\n",
       "      <th></th>\n",
       "      <th>Fatalities_Total</th>\n",
       "    </tr>\n",
       "    <tr>\n",
       "      <th>Date</th>\n",
       "      <th></th>\n",
       "    </tr>\n",
       "  </thead>\n",
       "  <tbody>\n",
       "    <tr>\n",
       "      <th>2020-01-22</th>\n",
       "      <td>17.0</td>\n",
       "    </tr>\n",
       "    <tr>\n",
       "      <th>2020-01-23</th>\n",
       "      <td>18.0</td>\n",
       "    </tr>\n",
       "    <tr>\n",
       "      <th>2020-01-24</th>\n",
       "      <td>26.0</td>\n",
       "    </tr>\n",
       "    <tr>\n",
       "      <th>2020-01-25</th>\n",
       "      <td>42.0</td>\n",
       "    </tr>\n",
       "    <tr>\n",
       "      <th>2020-01-26</th>\n",
       "      <td>56.0</td>\n",
       "    </tr>\n",
       "    <tr>\n",
       "      <th>...</th>\n",
       "      <td>...</td>\n",
       "    </tr>\n",
       "    <tr>\n",
       "      <th>2020-03-21</th>\n",
       "      <td>12973.0</td>\n",
       "    </tr>\n",
       "    <tr>\n",
       "      <th>2020-03-22</th>\n",
       "      <td>14659.0</td>\n",
       "    </tr>\n",
       "    <tr>\n",
       "      <th>2020-03-23</th>\n",
       "      <td>16498.0</td>\n",
       "    </tr>\n",
       "    <tr>\n",
       "      <th>2020-03-24</th>\n",
       "      <td>18623.0</td>\n",
       "    </tr>\n",
       "    <tr>\n",
       "      <th>2020-03-25</th>\n",
       "      <td>21179.0</td>\n",
       "    </tr>\n",
       "  </tbody>\n",
       "</table>\n",
       "<p>64 rows × 1 columns</p>\n",
       "</div>"
      ],
      "text/plain": [
       "            Fatalities_Total\n",
       "Date                        \n",
       "2020-01-22              17.0\n",
       "2020-01-23              18.0\n",
       "2020-01-24              26.0\n",
       "2020-01-25              42.0\n",
       "2020-01-26              56.0\n",
       "...                      ...\n",
       "2020-03-21           12973.0\n",
       "2020-03-22           14659.0\n",
       "2020-03-23           16498.0\n",
       "2020-03-24           18623.0\n",
       "2020-03-25           21179.0\n",
       "\n",
       "[64 rows x 1 columns]"
      ]
     },
     "execution_count": 15,
     "metadata": {},
     "output_type": "execute_result"
    }
   ],
   "source": [
    "df_case_worldwide = df[['Date','ConfirmedCases_Total']].groupby('Date').sum()\n",
    "df_fatalities_worldwide = df[['Date','Fatalities_Total']].groupby('Date').sum()\n",
    "\n",
    "df_fatalities_worldwide"
   ]
  },
  {
   "cell_type": "markdown",
   "metadata": {},
   "source": [
    "And then, let's visualize it using a line chart."
   ]
  },
  {
   "cell_type": "code",
   "execution_count": 16,
   "metadata": {},
   "outputs": [
    {
     "data": {
      "image/png": "[encoded data removed]",
      "text/plain": [
       "<Figure size 1440x432 with 2 Axes>"
      ]
     },
     "metadata": {
      "needs_background": "light"
     },
     "output_type": "display_data"
    }
   ],
   "source": [
    "fig = plt.figure()\n",
    "\n",
    "ax0 = fig.add_subplot(1, 2, 1)\n",
    "ax1 = fig.add_subplot(1, 2, 2)\n",
    "\n",
    "df_case_worldwide.plot(kind='line', color='red', ax=ax0, figsize=(20,6))\n",
    "ax0.set_title('COVID-19 Case Trend World Wide')\n",
    "ax0.set_xlabel('Date')\n",
    "ax0.set_ylabel('Total')\n",
    "\n",
    "df_fatalities_worldwide.plot(kind='line', color='blue', ax=ax1, figsize=(20,6))\n",
    "ax1.set_title('COVID-19 Fatalities Trend World Wide')\n",
    "ax1.set_xlabel('Date')\n",
    "ax1.set_ylabel('Total')\n",
    "\n",
    "plt.show()"
   ]
  },
  {
   "cell_type": "markdown",
   "metadata": {},
   "source": [
    "This figure gives us an interesting result. The number of confirmed cases and fatalities have increased over period of time. And it began to increased significantly in the first to second week of March 2020. That is when COVID-19 case has been recognized all over the world and people starts to concern about it. See the Google Trend image below."
   ]
  },
  {
   "cell_type": "code",
   "execution_count": 72,
   "metadata": {},
   "outputs": [
    {
     "data": {
      "text/html": [
       "<script type=\"text/javascript\" src=\"https://ssl.gstatic.com/trends_nrtr/2152_RC02/embed_loader.js\"></script> <script type=\"text/javascript\"> trends.embed.renderExploreWidget(\"TIMESERIES\", {\"comparisonItem\":[{\"keyword\":\"covid 19\",\"geo\":\"\",\"time\":\"2020-01-28 2020-03-28\"},{\"keyword\":\"corona\",\"geo\":\"\",\"time\":\"2020-01-28 2020-03-28\"},{\"keyword\":\"covid\",\"geo\":\"\",\"time\":\"2020-01-28 2020-03-28\"}],\"category\":0,\"property\":\"\"}, {\"exploreQuery\":\"date=2020-01-28%202020-03-28&q=covid%2019,corona,covid\",\"guestPath\":\"https://trends.google.com:443/trends/embed/\"}); </script>"
      ],
      "text/plain": [
       "<IPython.core.display.HTML object>"
      ]
     },
     "metadata": {},
     "output_type": "display_data"
    }
   ],
   "source": [
    "from IPython.core.display import display, HTML\n",
    "display(HTML('<script type=\"text/javascript\" src=\"https://ssl.gstatic.com/trends_nrtr/2152_RC02/embed_loader.js\"></script> <script type=\"text/javascript\"> trends.embed.renderExploreWidget(\"TIMESERIES\", {\"comparisonItem\":[{\"keyword\":\"covid 19\",\"geo\":\"\",\"time\":\"2020-01-28 2020-03-28\"},{\"keyword\":\"corona\",\"geo\":\"\",\"time\":\"2020-01-28 2020-03-28\"},{\"keyword\":\"covid\",\"geo\":\"\",\"time\":\"2020-01-28 2020-03-28\"}],\"category\":0,\"property\":\"\"}, {\"exploreQuery\":\"date=2020-01-28%202020-03-28&q=covid%2019,corona,covid\",\"guestPath\":\"https://trends.google.com:443/trends/embed/\"}); </script>'))"
   ]
  },
  {
   "cell_type": "markdown",
   "metadata": {},
   "source": [
    "Moreover, both Confirmed Cases and Fatalities have very similar graph. This indicates that these 2 variables have a similar distribution and positive correlation. To proof this hypothesis, let's add more visualization to these 2 variables."
   ]
  },
  {
   "cell_type": "code",
   "execution_count": 17,
   "metadata": {},
   "outputs": [
    {
     "data": {
      "image/png": "[encoded data removed]",
      "text/plain": [
       "<Figure size 1440x864 with 4 Axes>"
      ]
     },
     "metadata": {
      "needs_background": "light"
     },
     "output_type": "display_data"
    }
   ],
   "source": [
    "# Data normalization\n",
    "df_case_worldwide = (df_case_worldwide - df_case_worldwide.min()) / (df_case_worldwide.max() - df_case_worldwide.min())\n",
    "df_fatalities_worldwide = (df_fatalities_worldwide - df_fatalities_worldwide.min()) / (df_fatalities_worldwide.max() - df_fatalities_worldwide.min())\n",
    "\n",
    "fig = plt.figure()\n",
    "\n",
    "ax0 = fig.add_subplot(2, 2, 1)\n",
    "ax1 = fig.add_subplot(2, 2, 2)\n",
    "ax2 = fig.add_subplot(2, 2, 3)\n",
    "ax3 = fig.add_subplot(2, 2, 4)\n",
    "\n",
    "df_case_worldwide.plot(kind='hist', color='red', ax=ax0, figsize=(20,12))\n",
    "ax0.set_title('COVID-19 Case World Wide')\n",
    "ax0.set_ylabel('Total')\n",
    "\n",
    "df_fatalities_worldwide.plot(kind='hist', color='blue', ax=ax1, figsize=(20,12))\n",
    "ax1.set_title('COVID-19 Fatalities World Wide')\n",
    "ax1.set_ylabel('Total')\n",
    "\n",
    "df_case_worldwide.plot(kind='box', color='red', ax=ax2, figsize=(20,12))\n",
    "ax2.set_title('COVID-19 Case World Wide')\n",
    "ax2.set_ylabel('Total')\n",
    "\n",
    "df_fatalities_worldwide.plot(kind='box', color='blue', ax=ax3, figsize=(20,12))\n",
    "ax3.set_title('COVID-19 Fatalities World Wide')\n",
    "ax3.set_ylabel('Total')\n",
    "\n",
    "plt.show()"
   ]
  },
  {
   "cell_type": "markdown",
   "metadata": {},
   "source": [
    "Based on our graph above, we could conclude that COVID-19 case has similar distribution compared to COVID-19 fatalities. Our next step is adding scatter plot to these 2 variables to test whether they are correlated. We will use seaborn library to perform this visualization."
   ]
  },
  {
   "cell_type": "code",
   "execution_count": 19,
   "metadata": {},
   "outputs": [
    {
     "data": {
      "text/plain": [
       "Text(0.5, 1.0, 'Correlation between ConfirmedCases and Fatalities')"
      ]
     },
     "execution_count": 19,
     "metadata": {},
     "output_type": "execute_result"
    },
    {
     "data": {
      "image/png": "[encoded data removed]",
      "text/plain": [
       "<Figure size 720x432 with 1 Axes>"
      ]
     },
     "metadata": {
      "needs_background": "light"
     },
     "output_type": "display_data"
    }
   ],
   "source": [
    "df_worldwide = df.groupby('Date').sum()\n",
    "\n",
    "plt.figure(figsize=(10, 6))\n",
    "ax = sns.regplot(x='ConfirmedCases_Total', y='Fatalities_Total', data=df_worldwide, color='red')\n",
    "ax.set_title('Correlation between ConfirmedCases and Fatalities')"
   ]
  },
  {
   "cell_type": "code",
   "execution_count": 20,
   "metadata": {},
   "outputs": [
    {
     "data": {
      "text/html": [
       "<div>\n",
       "<style scoped>\n",
       "    .dataframe tbody tr th:only-of-type {\n",
       "        vertical-align: middle;\n",
       "    }\n",
       "\n",
       "    .dataframe tbody tr th {\n",
       "        vertical-align: top;\n",
       "    }\n",
       "\n",
       "    .dataframe thead th {\n",
       "        text-align: right;\n",
       "    }\n",
       "</style>\n",
       "<table border=\"1\" class=\"dataframe\">\n",
       "  <thead>\n",
       "    <tr style=\"text-align: right;\">\n",
       "      <th></th>\n",
       "      <th>ConfirmedCases_Total</th>\n",
       "      <th>Fatalities_Total</th>\n",
       "      <th>ConfirmedCases_Increase</th>\n",
       "      <th>Fatalities_Increase</th>\n",
       "    </tr>\n",
       "  </thead>\n",
       "  <tbody>\n",
       "    <tr>\n",
       "      <th>ConfirmedCases_Total</th>\n",
       "      <td>1.000000</td>\n",
       "      <td>0.995615</td>\n",
       "      <td>0.932731</td>\n",
       "      <td>0.954725</td>\n",
       "    </tr>\n",
       "    <tr>\n",
       "      <th>Fatalities_Total</th>\n",
       "      <td>0.995615</td>\n",
       "      <td>1.000000</td>\n",
       "      <td>0.946867</td>\n",
       "      <td>0.970273</td>\n",
       "    </tr>\n",
       "    <tr>\n",
       "      <th>ConfirmedCases_Increase</th>\n",
       "      <td>0.932731</td>\n",
       "      <td>0.946867</td>\n",
       "      <td>1.000000</td>\n",
       "      <td>0.985731</td>\n",
       "    </tr>\n",
       "    <tr>\n",
       "      <th>Fatalities_Increase</th>\n",
       "      <td>0.954725</td>\n",
       "      <td>0.970273</td>\n",
       "      <td>0.985731</td>\n",
       "      <td>1.000000</td>\n",
       "    </tr>\n",
       "  </tbody>\n",
       "</table>\n",
       "</div>"
      ],
      "text/plain": [
       "                         ConfirmedCases_Total  Fatalities_Total  \\\n",
       "ConfirmedCases_Total                 1.000000          0.995615   \n",
       "Fatalities_Total                     0.995615          1.000000   \n",
       "ConfirmedCases_Increase              0.932731          0.946867   \n",
       "Fatalities_Increase                  0.954725          0.970273   \n",
       "\n",
       "                         ConfirmedCases_Increase  Fatalities_Increase  \n",
       "ConfirmedCases_Total                    0.932731             0.954725  \n",
       "Fatalities_Total                        0.946867             0.970273  \n",
       "ConfirmedCases_Increase                 1.000000             0.985731  \n",
       "Fatalities_Increase                     0.985731             1.000000  "
      ]
     },
     "execution_count": 20,
     "metadata": {},
     "output_type": "execute_result"
    }
   ],
   "source": [
    "df_worldwide.corr()"
   ]
  },
  {
   "cell_type": "markdown",
   "metadata": {},
   "source": [
    "From graph above, we can conclude that Confirmed Cases and Fatalities have a very strong correlation. This means that the number of deceased people (fatalities) is still very high and right now (until 25 March 2020), most likely there are no very effective treatment or cure to stop the number of deceased people because of COVID-19."
   ]
  },
  {
   "cell_type": "markdown",
   "metadata": {},
   "source": [
    "## C. Does Country's Location Affect the COVID-19 Spreadness?"
   ]
  },
  {
   "cell_type": "markdown",
   "metadata": {},
   "source": [
    "Now, let's go ahead and perform our second analysis of our dataset. In this section, we want to know what caused the speed of COVID-19 spreadness all over the world. In order to do that, we need to know when is the first COVID-19 occurence in China. "
   ]
  },
  {
   "cell_type": "code",
   "execution_count": 21,
   "metadata": {},
   "outputs": [
    {
     "data": {
      "text/html": [
       "<div>\n",
       "<style scoped>\n",
       "    .dataframe tbody tr th:only-of-type {\n",
       "        vertical-align: middle;\n",
       "    }\n",
       "\n",
       "    .dataframe tbody tr th {\n",
       "        vertical-align: top;\n",
       "    }\n",
       "\n",
       "    .dataframe thead th {\n",
       "        text-align: right;\n",
       "    }\n",
       "</style>\n",
       "<table border=\"1\" class=\"dataframe\">\n",
       "  <thead>\n",
       "    <tr style=\"text-align: right;\">\n",
       "      <th></th>\n",
       "      <th>Date</th>\n",
       "      <th>ConfirmedCases_Total</th>\n",
       "      <th>Fatalities_Total</th>\n",
       "      <th>ConfirmedCases_Increase</th>\n",
       "      <th>Fatalities_Increase</th>\n",
       "    </tr>\n",
       "    <tr>\n",
       "      <th>Province_State</th>\n",
       "      <th></th>\n",
       "      <th></th>\n",
       "      <th></th>\n",
       "      <th></th>\n",
       "      <th></th>\n",
       "    </tr>\n",
       "  </thead>\n",
       "  <tbody>\n",
       "    <tr>\n",
       "      <th>Anhui</th>\n",
       "      <td>2020-01-22</td>\n",
       "      <td>1.0</td>\n",
       "      <td>0.0</td>\n",
       "      <td>1.0</td>\n",
       "      <td>0.0</td>\n",
       "    </tr>\n",
       "    <tr>\n",
       "      <th>Anhui</th>\n",
       "      <td>2020-01-23</td>\n",
       "      <td>9.0</td>\n",
       "      <td>0.0</td>\n",
       "      <td>8.0</td>\n",
       "      <td>0.0</td>\n",
       "    </tr>\n",
       "    <tr>\n",
       "      <th>Anhui</th>\n",
       "      <td>2020-01-24</td>\n",
       "      <td>15.0</td>\n",
       "      <td>0.0</td>\n",
       "      <td>6.0</td>\n",
       "      <td>0.0</td>\n",
       "    </tr>\n",
       "    <tr>\n",
       "      <th>Anhui</th>\n",
       "      <td>2020-01-25</td>\n",
       "      <td>39.0</td>\n",
       "      <td>0.0</td>\n",
       "      <td>24.0</td>\n",
       "      <td>0.0</td>\n",
       "    </tr>\n",
       "    <tr>\n",
       "      <th>Anhui</th>\n",
       "      <td>2020-01-26</td>\n",
       "      <td>60.0</td>\n",
       "      <td>0.0</td>\n",
       "      <td>21.0</td>\n",
       "      <td>0.0</td>\n",
       "    </tr>\n",
       "  </tbody>\n",
       "</table>\n",
       "</div>"
      ],
      "text/plain": [
       "                     Date  ConfirmedCases_Total  Fatalities_Total  \\\n",
       "Province_State                                                      \n",
       "Anhui          2020-01-22                   1.0               0.0   \n",
       "Anhui          2020-01-23                   9.0               0.0   \n",
       "Anhui          2020-01-24                  15.0               0.0   \n",
       "Anhui          2020-01-25                  39.0               0.0   \n",
       "Anhui          2020-01-26                  60.0               0.0   \n",
       "\n",
       "                ConfirmedCases_Increase  Fatalities_Increase  \n",
       "Province_State                                                \n",
       "Anhui                               1.0                  0.0  \n",
       "Anhui                               8.0                  0.0  \n",
       "Anhui                               6.0                  0.0  \n",
       "Anhui                              24.0                  0.0  \n",
       "Anhui                              21.0                  0.0  "
      ]
     },
     "execution_count": 21,
     "metadata": {},
     "output_type": "execute_result"
    }
   ],
   "source": [
    "df_china = df.loc['China']\n",
    "df_china.head()"
   ]
  },
  {
   "cell_type": "markdown",
   "metadata": {},
   "source": [
    "We could see that China suffers for COVID-19 disease from 22 January. Next, let's find out the first case in others country outside of China. Then, we sorted it based on date to get the earliest COVID-19 disease. "
   ]
  },
  {
   "cell_type": "code",
   "execution_count": 23,
   "metadata": {},
   "outputs": [
    {
     "data": {
      "text/html": [
       "<div>\n",
       "<style scoped>\n",
       "    .dataframe tbody tr th:only-of-type {\n",
       "        vertical-align: middle;\n",
       "    }\n",
       "\n",
       "    .dataframe tbody tr th {\n",
       "        vertical-align: top;\n",
       "    }\n",
       "\n",
       "    .dataframe thead th {\n",
       "        text-align: right;\n",
       "    }\n",
       "</style>\n",
       "<table border=\"1\" class=\"dataframe\">\n",
       "  <thead>\n",
       "    <tr style=\"text-align: right;\">\n",
       "      <th></th>\n",
       "      <th>Date</th>\n",
       "      <th>ConfirmedCases_Total</th>\n",
       "      <th>Fatalities_Total</th>\n",
       "      <th>ConfirmedCases_Increase</th>\n",
       "      <th>Fatalities_Increase</th>\n",
       "    </tr>\n",
       "    <tr>\n",
       "      <th>Country_Region</th>\n",
       "      <th></th>\n",
       "      <th></th>\n",
       "      <th></th>\n",
       "      <th></th>\n",
       "      <th></th>\n",
       "    </tr>\n",
       "  </thead>\n",
       "  <tbody>\n",
       "    <tr>\n",
       "      <th>Korea, South</th>\n",
       "      <td>2020-01-22</td>\n",
       "      <td>1.0</td>\n",
       "      <td>0.0</td>\n",
       "      <td>0.0</td>\n",
       "      <td>0.0</td>\n",
       "    </tr>\n",
       "    <tr>\n",
       "      <th>Japan</th>\n",
       "      <td>2020-01-22</td>\n",
       "      <td>2.0</td>\n",
       "      <td>0.0</td>\n",
       "      <td>0.0</td>\n",
       "      <td>0.0</td>\n",
       "    </tr>\n",
       "    <tr>\n",
       "      <th>Taiwan*</th>\n",
       "      <td>2020-01-22</td>\n",
       "      <td>1.0</td>\n",
       "      <td>0.0</td>\n",
       "      <td>0.0</td>\n",
       "      <td>0.0</td>\n",
       "    </tr>\n",
       "    <tr>\n",
       "      <th>Thailand</th>\n",
       "      <td>2020-01-22</td>\n",
       "      <td>2.0</td>\n",
       "      <td>0.0</td>\n",
       "      <td>0.0</td>\n",
       "      <td>0.0</td>\n",
       "    </tr>\n",
       "    <tr>\n",
       "      <th>Vietnam</th>\n",
       "      <td>2020-01-23</td>\n",
       "      <td>2.0</td>\n",
       "      <td>0.0</td>\n",
       "      <td>0.0</td>\n",
       "      <td>0.0</td>\n",
       "    </tr>\n",
       "    <tr>\n",
       "      <th>Singapore</th>\n",
       "      <td>2020-01-23</td>\n",
       "      <td>1.0</td>\n",
       "      <td>0.0</td>\n",
       "      <td>0.0</td>\n",
       "      <td>0.0</td>\n",
       "    </tr>\n",
       "    <tr>\n",
       "      <th>France</th>\n",
       "      <td>2020-01-24</td>\n",
       "      <td>1.0</td>\n",
       "      <td>0.0</td>\n",
       "      <td>0.0</td>\n",
       "      <td>0.0</td>\n",
       "    </tr>\n",
       "    <tr>\n",
       "      <th>Nepal</th>\n",
       "      <td>2020-01-25</td>\n",
       "      <td>1.0</td>\n",
       "      <td>0.0</td>\n",
       "      <td>0.0</td>\n",
       "      <td>0.0</td>\n",
       "    </tr>\n",
       "    <tr>\n",
       "      <th>Malaysia</th>\n",
       "      <td>2020-01-25</td>\n",
       "      <td>3.0</td>\n",
       "      <td>0.0</td>\n",
       "      <td>0.0</td>\n",
       "      <td>0.0</td>\n",
       "    </tr>\n",
       "    <tr>\n",
       "      <th>Australia</th>\n",
       "      <td>2020-01-26</td>\n",
       "      <td>1.0</td>\n",
       "      <td>0.0</td>\n",
       "      <td>0.0</td>\n",
       "      <td>0.0</td>\n",
       "    </tr>\n",
       "  </tbody>\n",
       "</table>\n",
       "</div>"
      ],
      "text/plain": [
       "                     Date  ConfirmedCases_Total  Fatalities_Total  \\\n",
       "Country_Region                                                      \n",
       "Korea, South   2020-01-22                   1.0               0.0   \n",
       "Japan          2020-01-22                   2.0               0.0   \n",
       "Taiwan*        2020-01-22                   1.0               0.0   \n",
       "Thailand       2020-01-22                   2.0               0.0   \n",
       "Vietnam        2020-01-23                   2.0               0.0   \n",
       "Singapore      2020-01-23                   1.0               0.0   \n",
       "France         2020-01-24                   1.0               0.0   \n",
       "Nepal          2020-01-25                   1.0               0.0   \n",
       "Malaysia       2020-01-25                   3.0               0.0   \n",
       "Australia      2020-01-26                   1.0               0.0   \n",
       "\n",
       "                ConfirmedCases_Increase  Fatalities_Increase  \n",
       "Country_Region                                                \n",
       "Korea, South                        0.0                  0.0  \n",
       "Japan                               0.0                  0.0  \n",
       "Taiwan*                             0.0                  0.0  \n",
       "Thailand                            0.0                  0.0  \n",
       "Vietnam                             0.0                  0.0  \n",
       "Singapore                           0.0                  0.0  \n",
       "France                              0.0                  0.0  \n",
       "Nepal                               0.0                  0.0  \n",
       "Malaysia                            0.0                  0.0  \n",
       "Australia                           0.0                  0.0  "
      ]
     },
     "execution_count": 23,
     "metadata": {},
     "output_type": "execute_result"
    }
   ],
   "source": [
    "df.reset_index(inplace=True)\n",
    "df_outside_china = df[df['Country_Region'] != 'China']\n",
    "df_outside_china.set_index(['Country_Region', 'Province_State'], inplace=True)\n",
    "\n",
    "# set index again\n",
    "df.set_index(['Country_Region', 'Province_State'], inplace=True)\n",
    "\n",
    "# performing aggregation\n",
    "df_outside_china = df_outside_china[df_outside_china['ConfirmedCases_Total'] != 0]\n",
    "df_outside_china = df_outside_china.groupby(['Country_Region']).min()\n",
    "\n",
    "# sorting based on dates\n",
    "df_outside_china.sort_values(by='Date', ascending=True, inplace=True)\n",
    "df_outside_china.head(10)"
   ]
  },
  {
   "cell_type": "markdown",
   "metadata": {},
   "source": [
    "From table above, we now know that the earliest COVID-19 cases around the world (outside China) is mostly in Asia country. This indicates that countries located near China is more susceptible and prone to COVID-19. "
   ]
  },
  {
   "cell_type": "markdown",
   "metadata": {},
   "source": [
    "Now, let's see the number of cases of the 6 earliest country. In this case, we will use the ConfirmedCases_Increase to calculate the total "
   ]
  },
  {
   "cell_type": "code",
   "execution_count": 26,
   "metadata": {},
   "outputs": [
    {
     "data": {
      "text/html": [
       "<div>\n",
       "<style scoped>\n",
       "    .dataframe tbody tr th:only-of-type {\n",
       "        vertical-align: middle;\n",
       "    }\n",
       "\n",
       "    .dataframe tbody tr th {\n",
       "        vertical-align: top;\n",
       "    }\n",
       "\n",
       "    .dataframe thead th {\n",
       "        text-align: right;\n",
       "    }\n",
       "</style>\n",
       "<table border=\"1\" class=\"dataframe\">\n",
       "  <thead>\n",
       "    <tr style=\"text-align: right;\">\n",
       "      <th></th>\n",
       "      <th>ConfirmedCases_Increase</th>\n",
       "    </tr>\n",
       "    <tr>\n",
       "      <th>Country_Region</th>\n",
       "      <th></th>\n",
       "    </tr>\n",
       "  </thead>\n",
       "  <tbody>\n",
       "    <tr>\n",
       "      <th>Japan</th>\n",
       "      <td>1307.0</td>\n",
       "    </tr>\n",
       "    <tr>\n",
       "      <th>Korea, South</th>\n",
       "      <td>9137.0</td>\n",
       "    </tr>\n",
       "    <tr>\n",
       "      <th>Singapore</th>\n",
       "      <td>631.0</td>\n",
       "    </tr>\n",
       "    <tr>\n",
       "      <th>Taiwan*</th>\n",
       "      <td>235.0</td>\n",
       "    </tr>\n",
       "    <tr>\n",
       "      <th>Thailand</th>\n",
       "      <td>934.0</td>\n",
       "    </tr>\n",
       "    <tr>\n",
       "      <th>Vietnam</th>\n",
       "      <td>141.0</td>\n",
       "    </tr>\n",
       "  </tbody>\n",
       "</table>\n",
       "</div>"
      ],
      "text/plain": [
       "                ConfirmedCases_Increase\n",
       "Country_Region                         \n",
       "Japan                            1307.0\n",
       "Korea, South                     9137.0\n",
       "Singapore                         631.0\n",
       "Taiwan*                           235.0\n",
       "Thailand                          934.0\n",
       "Vietnam                           141.0"
      ]
     },
     "execution_count": 26,
     "metadata": {},
     "output_type": "execute_result"
    }
   ],
   "source": [
    "df_top6 = df.loc[['Korea, South', 'Japan', 'Taiwan*', 'Thailand', 'Vietnam', 'Singapore']]\n",
    "df_top6 = df_top6[['ConfirmedCases_Increase']].groupby(['Country_Region']).sum()\n",
    "df_top6"
   ]
  },
  {
   "cell_type": "markdown",
   "metadata": {},
   "source": [
    "Let's compute the mean of confirmed cases around the world."
   ]
  },
  {
   "cell_type": "code",
   "execution_count": 28,
   "metadata": {},
   "outputs": [
    {
     "data": {
      "text/plain": [
       "24.85092474489796"
      ]
     },
     "execution_count": 28,
     "metadata": {},
     "output_type": "execute_result"
    }
   ],
   "source": [
    "mean = df['ConfirmedCases_Increase'].mean()\n",
    "mean"
   ]
  },
  {
   "cell_type": "markdown",
   "metadata": {},
   "source": [
    "Now, let's visualize that data using bar chart so we can analyse easily."
   ]
  },
  {
   "cell_type": "code",
   "execution_count": 29,
   "metadata": {},
   "outputs": [
    {
     "data": {
      "image/png": "[encoded data removed]",
      "text/plain": [
       "<Figure size 1440x432 with 1 Axes>"
      ]
     },
     "metadata": {
      "needs_background": "light"
     },
     "output_type": "display_data"
    }
   ],
   "source": [
    "df_top6.plot(kind='barh', figsize=(20,6))\n",
    "plt.title('Total Cases of Top 6 Earliest Spread Countries')\n",
    "plt.show()"
   ]
  },
  {
   "cell_type": "markdown",
   "metadata": {},
   "source": [
    "From above table and chart, we could see that the total cases among the top 6 earliest spread countries is not similar, especially for South Korea. However, these number of cases is considered very high because all of them are above the global mean (24.850)."
   ]
  },
  {
   "cell_type": "code",
   "execution_count": 73,
   "metadata": {},
   "outputs": [],
   "source": [
    "# df_earliest = df.loc[['China', 'Korea, South', 'Japan', 'Taiwan*']]\n",
    "# df_earliest = df_earliest[['Date', 'ConfirmedCases']].groupby(['Country_Region', 'Date']).sum()\n",
    "# df_earliest.reset_index(inplace=True)\n",
    "\n",
    "# df_earliest = df_earliest.pivot(index='Date',columns='Country_Region')\n",
    "\n",
    "# df_earliest\n",
    "\n",
    "# df_earliest.plot(kind='area', figsize=(15,8))\n",
    "# plt.title('COVID-19 Trend in Top 4 Earliest Spread Countries')\n",
    "# plt.xlabel('Date')\n",
    "# plt.ylabel('Total')"
   ]
  },
  {
   "cell_type": "markdown",
   "metadata": {},
   "source": [
    "Our next step is visualizing the COVID-19's escalation in the top 6 earliest countries. So let's the new dataframes."
   ]
  },
  {
   "cell_type": "code",
   "execution_count": 32,
   "metadata": {},
   "outputs": [
    {
     "data": {
      "text/html": [
       "<div>\n",
       "<style scoped>\n",
       "    .dataframe tbody tr th:only-of-type {\n",
       "        vertical-align: middle;\n",
       "    }\n",
       "\n",
       "    .dataframe tbody tr th {\n",
       "        vertical-align: top;\n",
       "    }\n",
       "\n",
       "    .dataframe thead th {\n",
       "        text-align: right;\n",
       "    }\n",
       "</style>\n",
       "<table border=\"1\" class=\"dataframe\">\n",
       "  <thead>\n",
       "    <tr style=\"text-align: right;\">\n",
       "      <th></th>\n",
       "      <th>ConfirmedCases_Increase</th>\n",
       "    </tr>\n",
       "    <tr>\n",
       "      <th>Days</th>\n",
       "      <th></th>\n",
       "    </tr>\n",
       "  </thead>\n",
       "  <tbody>\n",
       "    <tr>\n",
       "      <th>0</th>\n",
       "      <td>1.0</td>\n",
       "    </tr>\n",
       "    <tr>\n",
       "      <th>1</th>\n",
       "      <td>0.0</td>\n",
       "    </tr>\n",
       "    <tr>\n",
       "      <th>2</th>\n",
       "      <td>1.0</td>\n",
       "    </tr>\n",
       "    <tr>\n",
       "      <th>3</th>\n",
       "      <td>0.0</td>\n",
       "    </tr>\n",
       "    <tr>\n",
       "      <th>4</th>\n",
       "      <td>1.0</td>\n",
       "    </tr>\n",
       "    <tr>\n",
       "      <th>...</th>\n",
       "      <td>...</td>\n",
       "    </tr>\n",
       "    <tr>\n",
       "      <th>59</th>\n",
       "      <td>147.0</td>\n",
       "    </tr>\n",
       "    <tr>\n",
       "      <th>60</th>\n",
       "      <td>162.0</td>\n",
       "    </tr>\n",
       "    <tr>\n",
       "      <th>61</th>\n",
       "      <td>0.0</td>\n",
       "    </tr>\n",
       "    <tr>\n",
       "      <th>62</th>\n",
       "      <td>76.0</td>\n",
       "    </tr>\n",
       "    <tr>\n",
       "      <th>63</th>\n",
       "      <td>100.0</td>\n",
       "    </tr>\n",
       "  </tbody>\n",
       "</table>\n",
       "<p>64 rows × 1 columns</p>\n",
       "</div>"
      ],
      "text/plain": [
       "      ConfirmedCases_Increase\n",
       "Days                         \n",
       "0                         1.0\n",
       "1                         0.0\n",
       "2                         1.0\n",
       "3                         0.0\n",
       "4                         1.0\n",
       "...                       ...\n",
       "59                      147.0\n",
       "60                      162.0\n",
       "61                        0.0\n",
       "62                       76.0\n",
       "63                      100.0\n",
       "\n",
       "[64 rows x 1 columns]"
      ]
     },
     "execution_count": 32,
     "metadata": {},
     "output_type": "execute_result"
    }
   ],
   "source": [
    "df_korea = df.loc['Korea, South']\n",
    "df_korea = df_korea[['Date', 'ConfirmedCases_Increase']].groupby(['Date']).sum()\n",
    "df_korea.reset_index(inplace=True)\n",
    "\n",
    "df_japan = df.loc['Japan']\n",
    "df_japan = df_japan[['Date', 'ConfirmedCases_Increase']].groupby(['Date']).sum()\n",
    "df_japan.reset_index(inplace=True)\n",
    "\n",
    "df_taiwan = df.loc['Taiwan*']\n",
    "df_taiwan = df_taiwan[['Date', 'ConfirmedCases_Increase']].groupby(['Date']).sum()\n",
    "df_taiwan.reset_index(inplace=True)\n",
    "\n",
    "df_thailand = df.loc['Thailand']\n",
    "df_thailand = df_thailand[['Date', 'ConfirmedCases_Increase']].groupby(['Date']).sum()\n",
    "df_thailand.reset_index(inplace=True)\n",
    "\n",
    "# calculate date difference between each date and first case date\n",
    "df_korea['Days'] = (df_korea['Date'] - df_outside_china.loc['Korea, South', 'Date']).dt.days\n",
    "df_korea.set_index('Days', inplace=True)\n",
    "df_korea.drop('Date', axis=1, inplace=True)\n",
    "\n",
    "df_japan['Days'] = (df_japan['Date'] - df_outside_china.loc['Japan', 'Date']).dt.days\n",
    "df_japan.set_index('Days', inplace=True)\n",
    "df_japan.drop('Date', axis=1, inplace=True)\n",
    "\n",
    "df_taiwan['Days'] = (df_taiwan['Date'] - df_outside_china.loc['Taiwan*', 'Date']).dt.days\n",
    "df_taiwan.set_index('Days', inplace=True)\n",
    "df_taiwan.drop('Date', axis=1, inplace=True)\n",
    "\n",
    "df_thailand['Days'] = (df_thailand['Date'] - df_outside_china.loc['Thailand', 'Date']).dt.days\n",
    "df_thailand.set_index('Days', inplace=True)\n",
    "df_thailand.drop('Date', axis=1, inplace=True)\n",
    "\n",
    "df_korea"
   ]
  },
  {
   "cell_type": "markdown",
   "metadata": {},
   "source": [
    "And le's visualize it using line chart."
   ]
  },
  {
   "cell_type": "code",
   "execution_count": 33,
   "metadata": {},
   "outputs": [
    {
     "data": {
      "image/png": "[encoded data removed]",
      "text/plain": [
       "<Figure size 1440x864 with 4 Axes>"
      ]
     },
     "metadata": {
      "needs_background": "light"
     },
     "output_type": "display_data"
    }
   ],
   "source": [
    "# NUMBER OF CASES SINCE COUNTRY'S FIRST CASE\n",
    "\n",
    "fig = plt.figure()\n",
    "fig.suptitle('Day Elapsed Since First Case in Earliest Countries', fontsize=20)\n",
    "\n",
    "ax0 = fig.add_subplot(2, 2, 1)\n",
    "ax1 = fig.add_subplot(2, 2, 2)\n",
    "ax2 = fig.add_subplot(2, 2, 3)\n",
    "ax3 = fig.add_subplot(2, 2, 4)\n",
    "\n",
    "df_korea.plot(kind='line', color='blue', ax=ax1, figsize=(20,12))\n",
    "ax1.set_title('COVID-19 Trend in South Korea')\n",
    "ax1.set_ylabel('Total')\n",
    "\n",
    "df_japan.plot(kind='line', color='green', ax=ax2, figsize=(20,12))\n",
    "ax2.set_title('COVID-19 Trend in Japan')\n",
    "ax2.set_ylabel('Total')\n",
    "\n",
    "df_taiwan.plot(kind='line', color='orange', ax=ax3, figsize=(20,12))\n",
    "ax3.set_title('COVID-19 Trend in Taiwan')\n",
    "ax3.set_ylabel('Total')\n",
    "\n",
    "df_thailand.plot(kind='line', color='red', ax=ax0, figsize=(20,12))\n",
    "ax0.set_title('COVID-19 Trend in Thailand')\n",
    "ax0.set_ylabel('Total')\n",
    "\n",
    "plt.show()"
   ]
  },
  {
   "cell_type": "markdown",
   "metadata": {},
   "source": [
    "The above chart gives us interesting results. It seems that COVID-19 cases starts to increase significantly in 30 to 50 days since its first case. This facts indicates that the number of days plays an important roles to predicting the number of cases in each country. "
   ]
  },
  {
   "cell_type": "markdown",
   "metadata": {},
   "source": [
    "Secondly, the chart also shows us that South Korea handling COVID-19's spreadness very effectively because the escalation is much lower compared to few weeks ago."
   ]
  },
  {
   "cell_type": "markdown",
   "metadata": {},
   "source": [
    "## D. Relationships with Country's Total Population"
   ]
  },
  {
   "cell_type": "markdown",
   "metadata": {},
   "source": [
    "In order to find the correlation, we need to add the country's population data around the world. We will use the World Bank population data for this purpose. Let's import it and show its first 5 rows."
   ]
  },
  {
   "cell_type": "code",
   "execution_count": 34,
   "metadata": {},
   "outputs": [
    {
     "data": {
      "text/html": [
       "<div>\n",
       "<style scoped>\n",
       "    .dataframe tbody tr th:only-of-type {\n",
       "        vertical-align: middle;\n",
       "    }\n",
       "\n",
       "    .dataframe tbody tr th {\n",
       "        vertical-align: top;\n",
       "    }\n",
       "\n",
       "    .dataframe thead th {\n",
       "        text-align: right;\n",
       "    }\n",
       "</style>\n",
       "<table border=\"1\" class=\"dataframe\">\n",
       "  <thead>\n",
       "    <tr style=\"text-align: right;\">\n",
       "      <th></th>\n",
       "      <th>Country Name</th>\n",
       "      <th>Country Code</th>\n",
       "      <th>Indicator Name</th>\n",
       "      <th>Indicator Code</th>\n",
       "      <th>1960</th>\n",
       "      <th>1961</th>\n",
       "      <th>1962</th>\n",
       "      <th>1963</th>\n",
       "      <th>1964</th>\n",
       "      <th>1965</th>\n",
       "      <th>...</th>\n",
       "      <th>2010</th>\n",
       "      <th>2011</th>\n",
       "      <th>2012</th>\n",
       "      <th>2013</th>\n",
       "      <th>2014</th>\n",
       "      <th>2015</th>\n",
       "      <th>2016</th>\n",
       "      <th>2017</th>\n",
       "      <th>2018</th>\n",
       "      <th>2019</th>\n",
       "    </tr>\n",
       "  </thead>\n",
       "  <tbody>\n",
       "    <tr>\n",
       "      <th>0</th>\n",
       "      <td>Aruba</td>\n",
       "      <td>ABW</td>\n",
       "      <td>Population, total</td>\n",
       "      <td>SP.POP.TOTL</td>\n",
       "      <td>54211.0</td>\n",
       "      <td>55438.0</td>\n",
       "      <td>56225.0</td>\n",
       "      <td>56695.0</td>\n",
       "      <td>57032.0</td>\n",
       "      <td>57360.0</td>\n",
       "      <td>...</td>\n",
       "      <td>101669.0</td>\n",
       "      <td>102046.0</td>\n",
       "      <td>102560.0</td>\n",
       "      <td>103159.0</td>\n",
       "      <td>103774.0</td>\n",
       "      <td>104341.0</td>\n",
       "      <td>104872.0</td>\n",
       "      <td>105366.0</td>\n",
       "      <td>105845.0</td>\n",
       "      <td>NaN</td>\n",
       "    </tr>\n",
       "    <tr>\n",
       "      <th>1</th>\n",
       "      <td>Afghanistan</td>\n",
       "      <td>AFG</td>\n",
       "      <td>Population, total</td>\n",
       "      <td>SP.POP.TOTL</td>\n",
       "      <td>8996973.0</td>\n",
       "      <td>9169410.0</td>\n",
       "      <td>9351441.0</td>\n",
       "      <td>9543205.0</td>\n",
       "      <td>9744781.0</td>\n",
       "      <td>9956320.0</td>\n",
       "      <td>...</td>\n",
       "      <td>29185507.0</td>\n",
       "      <td>30117413.0</td>\n",
       "      <td>31161376.0</td>\n",
       "      <td>32269589.0</td>\n",
       "      <td>33370794.0</td>\n",
       "      <td>34413603.0</td>\n",
       "      <td>35383128.0</td>\n",
       "      <td>36296400.0</td>\n",
       "      <td>37172386.0</td>\n",
       "      <td>NaN</td>\n",
       "    </tr>\n",
       "    <tr>\n",
       "      <th>2</th>\n",
       "      <td>Angola</td>\n",
       "      <td>AGO</td>\n",
       "      <td>Population, total</td>\n",
       "      <td>SP.POP.TOTL</td>\n",
       "      <td>5454933.0</td>\n",
       "      <td>5531472.0</td>\n",
       "      <td>5608539.0</td>\n",
       "      <td>5679458.0</td>\n",
       "      <td>5735044.0</td>\n",
       "      <td>5770570.0</td>\n",
       "      <td>...</td>\n",
       "      <td>23356246.0</td>\n",
       "      <td>24220661.0</td>\n",
       "      <td>25107931.0</td>\n",
       "      <td>26015780.0</td>\n",
       "      <td>26941779.0</td>\n",
       "      <td>27884381.0</td>\n",
       "      <td>28842484.0</td>\n",
       "      <td>29816748.0</td>\n",
       "      <td>30809762.0</td>\n",
       "      <td>NaN</td>\n",
       "    </tr>\n",
       "    <tr>\n",
       "      <th>3</th>\n",
       "      <td>Albania</td>\n",
       "      <td>ALB</td>\n",
       "      <td>Population, total</td>\n",
       "      <td>SP.POP.TOTL</td>\n",
       "      <td>1608800.0</td>\n",
       "      <td>1659800.0</td>\n",
       "      <td>1711319.0</td>\n",
       "      <td>1762621.0</td>\n",
       "      <td>1814135.0</td>\n",
       "      <td>1864791.0</td>\n",
       "      <td>...</td>\n",
       "      <td>2913021.0</td>\n",
       "      <td>2905195.0</td>\n",
       "      <td>2900401.0</td>\n",
       "      <td>2895092.0</td>\n",
       "      <td>2889104.0</td>\n",
       "      <td>2880703.0</td>\n",
       "      <td>2876101.0</td>\n",
       "      <td>2873457.0</td>\n",
       "      <td>2866376.0</td>\n",
       "      <td>NaN</td>\n",
       "    </tr>\n",
       "    <tr>\n",
       "      <th>4</th>\n",
       "      <td>Andorra</td>\n",
       "      <td>AND</td>\n",
       "      <td>Population, total</td>\n",
       "      <td>SP.POP.TOTL</td>\n",
       "      <td>13411.0</td>\n",
       "      <td>14375.0</td>\n",
       "      <td>15370.0</td>\n",
       "      <td>16412.0</td>\n",
       "      <td>17469.0</td>\n",
       "      <td>18549.0</td>\n",
       "      <td>...</td>\n",
       "      <td>84449.0</td>\n",
       "      <td>83747.0</td>\n",
       "      <td>82427.0</td>\n",
       "      <td>80774.0</td>\n",
       "      <td>79213.0</td>\n",
       "      <td>78011.0</td>\n",
       "      <td>77297.0</td>\n",
       "      <td>77001.0</td>\n",
       "      <td>77006.0</td>\n",
       "      <td>NaN</td>\n",
       "    </tr>\n",
       "  </tbody>\n",
       "</table>\n",
       "<p>5 rows × 64 columns</p>\n",
       "</div>"
      ],
      "text/plain": [
       "  Country Name Country Code     Indicator Name Indicator Code       1960  \\\n",
       "0        Aruba          ABW  Population, total    SP.POP.TOTL    54211.0   \n",
       "1  Afghanistan          AFG  Population, total    SP.POP.TOTL  8996973.0   \n",
       "2       Angola          AGO  Population, total    SP.POP.TOTL  5454933.0   \n",
       "3      Albania          ALB  Population, total    SP.POP.TOTL  1608800.0   \n",
       "4      Andorra          AND  Population, total    SP.POP.TOTL    13411.0   \n",
       "\n",
       "        1961       1962       1963       1964       1965  ...        2010  \\\n",
       "0    55438.0    56225.0    56695.0    57032.0    57360.0  ...    101669.0   \n",
       "1  9169410.0  9351441.0  9543205.0  9744781.0  9956320.0  ...  29185507.0   \n",
       "2  5531472.0  5608539.0  5679458.0  5735044.0  5770570.0  ...  23356246.0   \n",
       "3  1659800.0  1711319.0  1762621.0  1814135.0  1864791.0  ...   2913021.0   \n",
       "4    14375.0    15370.0    16412.0    17469.0    18549.0  ...     84449.0   \n",
       "\n",
       "         2011        2012        2013        2014        2015        2016  \\\n",
       "0    102046.0    102560.0    103159.0    103774.0    104341.0    104872.0   \n",
       "1  30117413.0  31161376.0  32269589.0  33370794.0  34413603.0  35383128.0   \n",
       "2  24220661.0  25107931.0  26015780.0  26941779.0  27884381.0  28842484.0   \n",
       "3   2905195.0   2900401.0   2895092.0   2889104.0   2880703.0   2876101.0   \n",
       "4     83747.0     82427.0     80774.0     79213.0     78011.0     77297.0   \n",
       "\n",
       "         2017        2018  2019  \n",
       "0    105366.0    105845.0   NaN  \n",
       "1  36296400.0  37172386.0   NaN  \n",
       "2  29816748.0  30809762.0   NaN  \n",
       "3   2873457.0   2866376.0   NaN  \n",
       "4     77001.0     77006.0   NaN  \n",
       "\n",
       "[5 rows x 64 columns]"
      ]
     },
     "execution_count": 34,
     "metadata": {},
     "output_type": "execute_result"
    }
   ],
   "source": [
    "df_pop = pd.read_csv('dataset/population_data.csv')\n",
    "df_pop.head()"
   ]
  },
  {
   "cell_type": "markdown",
   "metadata": {},
   "source": [
    "We just need the country name and 2018 columns to get the current population data. "
   ]
  },
  {
   "cell_type": "code",
   "execution_count": 35,
   "metadata": {},
   "outputs": [
    {
     "name": "stdout",
     "output_type": "stream",
     "text": [
      "<class 'pandas.core.frame.DataFrame'>\n",
      "RangeIndex: 264 entries, 0 to 263\n",
      "Data columns (total 2 columns):\n",
      " #   Column        Non-Null Count  Dtype  \n",
      "---  ------        --------------  -----  \n",
      " 0   Country Name  264 non-null    object \n",
      " 1   2018          262 non-null    float64\n",
      "dtypes: float64(1), object(1)\n",
      "memory usage: 4.2+ KB\n"
     ]
    }
   ],
   "source": [
    "columns = ['Country Name', '2018']\n",
    "df_pop = df_pop[columns]\n",
    "\n",
    "df_pop.info()"
   ]
  },
  {
   "cell_type": "markdown",
   "metadata": {},
   "source": [
    "And then, let's get all countries confirmed cases since the beginning dates of dataset."
   ]
  },
  {
   "cell_type": "code",
   "execution_count": 41,
   "metadata": {},
   "outputs": [
    {
     "data": {
      "text/html": [
       "<div>\n",
       "<style scoped>\n",
       "    .dataframe tbody tr th:only-of-type {\n",
       "        vertical-align: middle;\n",
       "    }\n",
       "\n",
       "    .dataframe tbody tr th {\n",
       "        vertical-align: top;\n",
       "    }\n",
       "\n",
       "    .dataframe thead th {\n",
       "        text-align: right;\n",
       "    }\n",
       "</style>\n",
       "<table border=\"1\" class=\"dataframe\">\n",
       "  <thead>\n",
       "    <tr style=\"text-align: right;\">\n",
       "      <th></th>\n",
       "      <th>ConfirmedCases_Increase</th>\n",
       "    </tr>\n",
       "    <tr>\n",
       "      <th>Country_Region</th>\n",
       "      <th></th>\n",
       "    </tr>\n",
       "  </thead>\n",
       "  <tbody>\n",
       "    <tr>\n",
       "      <th>Afghanistan</th>\n",
       "      <td>84.0</td>\n",
       "    </tr>\n",
       "    <tr>\n",
       "      <th>Albania</th>\n",
       "      <td>146.0</td>\n",
       "    </tr>\n",
       "    <tr>\n",
       "      <th>Algeria</th>\n",
       "      <td>302.0</td>\n",
       "    </tr>\n",
       "    <tr>\n",
       "      <th>Andorra</th>\n",
       "      <td>188.0</td>\n",
       "    </tr>\n",
       "    <tr>\n",
       "      <th>Angola</th>\n",
       "      <td>3.0</td>\n",
       "    </tr>\n",
       "    <tr>\n",
       "      <th>...</th>\n",
       "      <td>...</td>\n",
       "    </tr>\n",
       "    <tr>\n",
       "      <th>Uzbekistan</th>\n",
       "      <td>60.0</td>\n",
       "    </tr>\n",
       "    <tr>\n",
       "      <th>Venezuela</th>\n",
       "      <td>91.0</td>\n",
       "    </tr>\n",
       "    <tr>\n",
       "      <th>Vietnam</th>\n",
       "      <td>141.0</td>\n",
       "    </tr>\n",
       "    <tr>\n",
       "      <th>Zambia</th>\n",
       "      <td>12.0</td>\n",
       "    </tr>\n",
       "    <tr>\n",
       "      <th>Zimbabwe</th>\n",
       "      <td>3.0</td>\n",
       "    </tr>\n",
       "  </tbody>\n",
       "</table>\n",
       "<p>173 rows × 1 columns</p>\n",
       "</div>"
      ],
      "text/plain": [
       "                ConfirmedCases_Increase\n",
       "Country_Region                         \n",
       "Afghanistan                        84.0\n",
       "Albania                           146.0\n",
       "Algeria                           302.0\n",
       "Andorra                           188.0\n",
       "Angola                              3.0\n",
       "...                                 ...\n",
       "Uzbekistan                         60.0\n",
       "Venezuela                          91.0\n",
       "Vietnam                           141.0\n",
       "Zambia                             12.0\n",
       "Zimbabwe                            3.0\n",
       "\n",
       "[173 rows x 1 columns]"
      ]
     },
     "execution_count": 41,
     "metadata": {},
     "output_type": "execute_result"
    }
   ],
   "source": [
    "df.reset_index(inplace=True)\n",
    "\n",
    "df_all_country = df[['Country_Region', 'ConfirmedCases_Increase']].groupby('Country_Region').sum()\n",
    "df_all_country"
   ]
  },
  {
   "cell_type": "markdown",
   "metadata": {},
   "source": [
    "Before we start to merging population data and COVID-19 data, we will check the mismatch names of the population data."
   ]
  },
  {
   "cell_type": "code",
   "execution_count": 42,
   "metadata": {},
   "outputs": [
    {
     "name": "stdout",
     "output_type": "stream",
     "text": [
      "Bahamas\n",
      "Brunei\n",
      "Congo (Brazzaville)\n",
      "Congo (Kinshasa)\n",
      "Czechia\n",
      "Diamond Princess\n",
      "Egypt\n",
      "Gambia\n",
      "Holy See\n",
      "Iran\n",
      "Korea, South\n",
      "Kyrgyzstan\n",
      "Laos\n",
      "Russia\n",
      "Saint Kitts and Nevis\n",
      "Saint Lucia\n",
      "Saint Vincent and the Grenadines\n",
      "Slovakia\n",
      "Syria\n",
      "Taiwan*\n",
      "US\n",
      "Venezuela\n"
     ]
    }
   ],
   "source": [
    "df_pop.columns = ['Country_Region', 'Population']\n",
    "df_pop.set_index('Country_Region', inplace=True)\n",
    "\n",
    "df_pop_index = df_pop.index\n",
    "df_all_country_index = df_all_country.index\n",
    "\n",
    "for index in df_all_country_index:\n",
    "    if(index not in df_pop_index):\n",
    "        print(index)"
   ]
  },
  {
   "cell_type": "markdown",
   "metadata": {},
   "source": [
    "The above cell output the mismatch country names value of population data. So, we need to renaming those values to match our COVID-19 dataset."
   ]
  },
  {
   "cell_type": "code",
   "execution_count": 43,
   "metadata": {},
   "outputs": [],
   "source": [
    "df_pop.rename(index={'Bahamas, The': 'Bahamas'}, inplace=True)\n",
    "df_pop.rename(index={'Brunei Darussalam': 'Brunei'}, inplace=True)\n",
    "df_pop.rename(index={'Congo, Dem. Rep.': 'Congo (Brazzaville)'}, inplace=True)\n",
    "df_pop.rename(index={'Congo, Rep.': 'Congo (Kinshasa)'}, inplace=True)\n",
    "df_pop.rename(index={'Czech Republic': 'Czechia'}, inplace=True)\n",
    "df_pop.rename(index={'Egypt, Arab Rep.': 'Egypt'}, inplace=True)\n",
    "df_pop.rename(index={'Gambia, The': 'Gambia'}, inplace=True)\n",
    "df_pop.rename(index={'Iran, Islamic Rep.': 'Iran'}, inplace=True)\n",
    "df_pop.rename(index={'Korea, Rep.': 'Korea, South'}, inplace=True)\n",
    "df_pop.rename(index={'Kyrgyz Republic': 'Kyrgyzstan'}, inplace=True)\n",
    "df_pop.rename(index={'Lao PDR': 'Laos'}, inplace=True)\n",
    "df_pop.rename(index={'Russian Federation': 'Russia'}, inplace=True)\n",
    "df_pop.rename(index={'St. Lucia': 'Saint Lucia'}, inplace=True)\n",
    "df_pop.rename(index={'St. Vincent and the Grenadines': 'Saint Vincent and the Grenadines'}, inplace=True)\n",
    "df_pop.rename(index={'St. Kitts and Nevis': 'Saint Kitts and Nevis'}, inplace=True)\n",
    "df_pop.rename(index={'Slovak Republic': 'Slovakia'}, inplace=True)\n",
    "df_pop.rename(index={'Syrian Arab Republic': 'Syria'}, inplace=True)\n",
    "df_pop.rename(index={'United States': 'US'}, inplace=True)\n",
    "df_pop.rename(index={'Venezuela, RB': 'Venezuela'}, inplace=True)"
   ]
  },
  {
   "cell_type": "markdown",
   "metadata": {},
   "source": [
    "Then, let's merge population data and COVID-19 dataset."
   ]
  },
  {
   "cell_type": "code",
   "execution_count": 44,
   "metadata": {},
   "outputs": [
    {
     "name": "stdout",
     "output_type": "stream",
     "text": [
      "<class 'pandas.core.frame.DataFrame'>\n",
      "Index: 173 entries, Afghanistan to Zimbabwe\n",
      "Data columns (total 2 columns):\n",
      " #   Column                   Non-Null Count  Dtype  \n",
      "---  ------                   --------------  -----  \n",
      " 0   ConfirmedCases_Increase  173 non-null    float64\n",
      " 1   Population               169 non-null    float64\n",
      "dtypes: float64(2)\n",
      "memory usage: 4.1+ KB\n"
     ]
    }
   ],
   "source": [
    "df_all_pop = pd.merge(df_all_country, df_pop, how='left', on='Country_Region')\n",
    "df_all_pop.info()"
   ]
  },
  {
   "cell_type": "markdown",
   "metadata": {},
   "source": [
    "From the above information, we know that there is 4 missing values in the population columns. So let's search those null values."
   ]
  },
  {
   "cell_type": "code",
   "execution_count": 45,
   "metadata": {},
   "outputs": [
    {
     "data": {
      "text/html": [
       "<div>\n",
       "<style scoped>\n",
       "    .dataframe tbody tr th:only-of-type {\n",
       "        vertical-align: middle;\n",
       "    }\n",
       "\n",
       "    .dataframe tbody tr th {\n",
       "        vertical-align: top;\n",
       "    }\n",
       "\n",
       "    .dataframe thead th {\n",
       "        text-align: right;\n",
       "    }\n",
       "</style>\n",
       "<table border=\"1\" class=\"dataframe\">\n",
       "  <thead>\n",
       "    <tr style=\"text-align: right;\">\n",
       "      <th></th>\n",
       "      <th>ConfirmedCases_Increase</th>\n",
       "      <th>Population</th>\n",
       "    </tr>\n",
       "    <tr>\n",
       "      <th>Country_Region</th>\n",
       "      <th></th>\n",
       "      <th></th>\n",
       "    </tr>\n",
       "  </thead>\n",
       "  <tbody>\n",
       "    <tr>\n",
       "      <th>Diamond Princess</th>\n",
       "      <td>712.0</td>\n",
       "      <td>NaN</td>\n",
       "    </tr>\n",
       "    <tr>\n",
       "      <th>Eritrea</th>\n",
       "      <td>4.0</td>\n",
       "      <td>NaN</td>\n",
       "    </tr>\n",
       "    <tr>\n",
       "      <th>Holy See</th>\n",
       "      <td>4.0</td>\n",
       "      <td>NaN</td>\n",
       "    </tr>\n",
       "    <tr>\n",
       "      <th>Taiwan*</th>\n",
       "      <td>235.0</td>\n",
       "      <td>NaN</td>\n",
       "    </tr>\n",
       "  </tbody>\n",
       "</table>\n",
       "</div>"
      ],
      "text/plain": [
       "                  ConfirmedCases_Increase  Population\n",
       "Country_Region                                       \n",
       "Diamond Princess                    712.0         NaN\n",
       "Eritrea                               4.0         NaN\n",
       "Holy See                              4.0         NaN\n",
       "Taiwan*                             235.0         NaN"
      ]
     },
     "execution_count": 45,
     "metadata": {},
     "output_type": "execute_result"
    }
   ],
   "source": [
    "df_all_pop[df_all_pop['Population'].isnull()]"
   ]
  },
  {
   "cell_type": "markdown",
   "metadata": {},
   "source": [
    "Because the World Bank population data does not have the total population of above countries, we will fill those missing population values manually using the help of Google. Unfortunately, I could not find the population data for Diamond Princess. So we will leave it blank for a moment. And let's check for dataframe information again."
   ]
  },
  {
   "cell_type": "code",
   "execution_count": 47,
   "metadata": {},
   "outputs": [
    {
     "name": "stdout",
     "output_type": "stream",
     "text": [
      "<class 'pandas.core.frame.DataFrame'>\n",
      "Index: 173 entries, Afghanistan to Zimbabwe\n",
      "Data columns (total 2 columns):\n",
      " #   Column                   Non-Null Count  Dtype  \n",
      "---  ------                   --------------  -----  \n",
      " 0   ConfirmedCases_Increase  173 non-null    float64\n",
      " 1   Population               172 non-null    float64\n",
      "dtypes: float64(2)\n",
      "memory usage: 9.1+ KB\n"
     ]
    }
   ],
   "source": [
    "df_all_pop.loc['Eritrea']['Population'] = 4475000\n",
    "df_all_pop.loc['Holy See']['Population'] = 618\n",
    "df_all_pop.loc['Taiwan*']['Population'] = 23780000\n",
    "\n",
    "df_all_pop.info()"
   ]
  },
  {
   "cell_type": "markdown",
   "metadata": {},
   "source": [
    "As you know, there is one more missing value for Diamond Proncess. Since I could not find any population data for it, we will remove this data."
   ]
  },
  {
   "cell_type": "code",
   "execution_count": 48,
   "metadata": {},
   "outputs": [
    {
     "name": "stdout",
     "output_type": "stream",
     "text": [
      "<class 'pandas.core.frame.DataFrame'>\n",
      "Index: 172 entries, Afghanistan to Zimbabwe\n",
      "Data columns (total 2 columns):\n",
      " #   Column                   Non-Null Count  Dtype  \n",
      "---  ------                   --------------  -----  \n",
      " 0   ConfirmedCases_Increase  172 non-null    float64\n",
      " 1   Population               172 non-null    float64\n",
      "dtypes: float64(2)\n",
      "memory usage: 4.0+ KB\n"
     ]
    }
   ],
   "source": [
    "df_all_pop.dropna(subset=['Population'], inplace=True)\n",
    "df_all_pop.info()"
   ]
  },
  {
   "cell_type": "markdown",
   "metadata": {},
   "source": [
    "So now, we have 172 countries data. Our next step is to find the correlation between confirmed cases and total population data in each country."
   ]
  },
  {
   "cell_type": "code",
   "execution_count": 49,
   "metadata": {},
   "outputs": [
    {
     "data": {
      "text/html": [
       "<div>\n",
       "<style scoped>\n",
       "    .dataframe tbody tr th:only-of-type {\n",
       "        vertical-align: middle;\n",
       "    }\n",
       "\n",
       "    .dataframe tbody tr th {\n",
       "        vertical-align: top;\n",
       "    }\n",
       "\n",
       "    .dataframe thead th {\n",
       "        text-align: right;\n",
       "    }\n",
       "</style>\n",
       "<table border=\"1\" class=\"dataframe\">\n",
       "  <thead>\n",
       "    <tr style=\"text-align: right;\">\n",
       "      <th></th>\n",
       "      <th>ConfirmedCases_Increase</th>\n",
       "      <th>Population</th>\n",
       "    </tr>\n",
       "    <tr>\n",
       "      <th>Country_Region</th>\n",
       "      <th></th>\n",
       "      <th></th>\n",
       "    </tr>\n",
       "  </thead>\n",
       "  <tbody>\n",
       "    <tr>\n",
       "      <th>Afghanistan</th>\n",
       "      <td>84.0</td>\n",
       "      <td>37172386.0</td>\n",
       "    </tr>\n",
       "    <tr>\n",
       "      <th>Albania</th>\n",
       "      <td>146.0</td>\n",
       "      <td>2866376.0</td>\n",
       "    </tr>\n",
       "    <tr>\n",
       "      <th>Algeria</th>\n",
       "      <td>302.0</td>\n",
       "      <td>42228429.0</td>\n",
       "    </tr>\n",
       "    <tr>\n",
       "      <th>Andorra</th>\n",
       "      <td>188.0</td>\n",
       "      <td>77006.0</td>\n",
       "    </tr>\n",
       "    <tr>\n",
       "      <th>Angola</th>\n",
       "      <td>3.0</td>\n",
       "      <td>30809762.0</td>\n",
       "    </tr>\n",
       "  </tbody>\n",
       "</table>\n",
       "</div>"
      ],
      "text/plain": [
       "                ConfirmedCases_Increase  Population\n",
       "Country_Region                                     \n",
       "Afghanistan                        84.0  37172386.0\n",
       "Albania                           146.0   2866376.0\n",
       "Algeria                           302.0  42228429.0\n",
       "Andorra                           188.0     77006.0\n",
       "Angola                              3.0  30809762.0"
      ]
     },
     "execution_count": 49,
     "metadata": {},
     "output_type": "execute_result"
    }
   ],
   "source": [
    "# df_all_pop.set_index('Country_Region', inplace=True)\n",
    "\n",
    "df_all_pop.head()"
   ]
  },
  {
   "cell_type": "code",
   "execution_count": 50,
   "metadata": {},
   "outputs": [
    {
     "data": {
      "text/plain": [
       "Text(0.5, 1.0, 'Correlation between Population and ConfirmedCases')"
      ]
     },
     "execution_count": 50,
     "metadata": {},
     "output_type": "execute_result"
    },
    {
     "data": {
      "image/png": "[encoded data removed]",
      "text/plain": [
       "<Figure size 720x432 with 1 Axes>"
      ]
     },
     "metadata": {
      "needs_background": "light"
     },
     "output_type": "display_data"
    }
   ],
   "source": [
    "plt.figure(figsize=(10, 6))\n",
    "ax = sns.regplot(x='Population', y='ConfirmedCases_Increase', data=df_all_pop, color='red')\n",
    "ax.set_title('Correlation between Population and ConfirmedCases')"
   ]
  },
  {
   "cell_type": "code",
   "execution_count": 51,
   "metadata": {},
   "outputs": [
    {
     "data": {
      "text/html": [
       "<div>\n",
       "<style scoped>\n",
       "    .dataframe tbody tr th:only-of-type {\n",
       "        vertical-align: middle;\n",
       "    }\n",
       "\n",
       "    .dataframe tbody tr th {\n",
       "        vertical-align: top;\n",
       "    }\n",
       "\n",
       "    .dataframe thead th {\n",
       "        text-align: right;\n",
       "    }\n",
       "</style>\n",
       "<table border=\"1\" class=\"dataframe\">\n",
       "  <thead>\n",
       "    <tr style=\"text-align: right;\">\n",
       "      <th></th>\n",
       "      <th>ConfirmedCases_Increase</th>\n",
       "      <th>Population</th>\n",
       "    </tr>\n",
       "  </thead>\n",
       "  <tbody>\n",
       "    <tr>\n",
       "      <th>ConfirmedCases_Increase</th>\n",
       "      <td>1.000000</td>\n",
       "      <td>0.463079</td>\n",
       "    </tr>\n",
       "    <tr>\n",
       "      <th>Population</th>\n",
       "      <td>0.463079</td>\n",
       "      <td>1.000000</td>\n",
       "    </tr>\n",
       "  </tbody>\n",
       "</table>\n",
       "</div>"
      ],
      "text/plain": [
       "                         ConfirmedCases_Increase  Population\n",
       "ConfirmedCases_Increase                 1.000000    0.463079\n",
       "Population                              0.463079    1.000000"
      ]
     },
     "execution_count": 51,
     "metadata": {},
     "output_type": "execute_result"
    }
   ],
   "source": [
    "df_all_pop.corr()"
   ]
  },
  {
   "cell_type": "markdown",
   "metadata": {},
   "source": [
    "As a surprise, there is no strong correlation to COVID-19 spreadness. So, from this dataset, we could conclude that the number of population does not reflect the COVID-19 cases in those particular countries. "
   ]
  },
  {
   "cell_type": "markdown",
   "metadata": {},
   "source": [
    "## E. Conclusion"
   ]
  },
  {
   "cell_type": "markdown",
   "metadata": {},
   "source": [
    "Based on our analysis and visualization earlier, we could conclude that:\n",
    "1. Until now (25 March 2020), most likely there are no effective treatment for COVID-19. This fact is obtained by the strong correlation between the ConfirmedCases (the actual cases) and Fatalities (deceased).\n",
    "2. As we know, COVID-19 initial case is located in Wuhan, China. From our analysis, there are 8 Asia countries out of 10 earliest cases of COVID-19 beside China itself. Therefore, we know that countries located closer to China is more likely to be infectious faster. \n",
    "3. The earliest infected countries tends to have higher number of cases. \n",
    "4. The number of cases tends to increase significantly since 30-50 days after country's first case. So, in order to slowing down the spreadness, the infected country must prepare as soon as possible.\n",
    "5. Surprisingly, the correlation between COVID-19 cases and total population in particular country is considered very low. Thus, the number of population does not reflect the number of COVID-19's cases in each country.\n",
    "\n",
    "However, as a disclaimer, we must still assumed that this dataset could be biased because many countries does not apply the thorough testing for its citizen. So it has high possibility that there are so many false negative in this data. "
   ]
  },
  {
   "cell_type": "markdown",
   "metadata": {},
   "source": [
    "### About the Authors:"
   ]
  },
  {
   "cell_type": "markdown",
   "metadata": {},
   "source": [
    "This notebook was written by Ekky Rino Fajar Sakti. He received Bachelor Degree in Computer Science from Ma Chung University. Currently, He is a Data Scientist which helps to build Data Solution for stakeholder. His passion is Data Science, Big Data, and Machine Learning. \n",
    " - Email: ekky.rino@gmail.com\n",
    " - LinkedIn: https://www.linkedin.com/in/ekky-rino/"
   ]
  }
 ],
 "metadata": {
  "kernelspec": {
   "display_name": "Python 3",
   "language": "python",
   "name": "python3"
  },
  "language_info": {
   "codemirror_mode": {
    "name": "ipython",
    "version": 3
   },
   "file_extension": ".py",
   "mimetype": "text/x-python",
   "name": "python",
   "nbconvert_exporter": "python",
   "pygments_lexer": "ipython3",
   "version": "3.7.6"
  }
 },
 "nbformat": 4,
 "nbformat_minor": 4
}
